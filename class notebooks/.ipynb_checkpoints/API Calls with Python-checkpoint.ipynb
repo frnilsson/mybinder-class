{
 "cells": [
  {
   "cell_type": "markdown",
   "metadata": {},
   "source": [
    "# API Calls with Python\n",
    "\n",
    "\n",
    "----\n",
    "\n",
    "This notebook will provide you with an instruction on how to query APIs using Python. Upon completion of this notebook you will be able to make API requests that do not require authentication through keys using the `requests` library. It will lead you through all the steps necessary for a successful API call, understanding the responses and show you how to further process JSON files."
   ]
  },
  {
   "cell_type": "markdown",
   "metadata": {},
   "source": [
    "## Table of Contents\n",
    "* [Import all packages we need](#Import-all-packages-we-need)\n",
    "* [How the request package works](#How-the-request-package-works)\n",
    "* [JavaScript Object Notation](#JavaScript-Object-Notation)\n",
    "* [Querying the Patent API](#Querying-the-Patent-API)"
   ]
  },
  {
   "cell_type": "markdown",
   "metadata": {},
   "source": [
    "APIs are hosted on web servers. When you type www.google.com in your browser's address bar, your computer is actually asking the www.google.com server for a webpage, which it then returns to your browser.\n",
    "\n",
    "APIs work much the same way, except instead of your web browser asking for a webpage, your program asks for data. This data is usually returned in JSON format. In order to process json files we need to load the json package. \n",
    "\n",
    "To retrieve data, we make a request to a webserver. The server then replies with our data. In Python, we'll use the requests library to do this. Thus, we can retrieve APIs through http requests. "
   ]
  },
  {
   "cell_type": "markdown",
   "metadata": {},
   "source": [
    "## Import all packages we need"
   ]
  },
  {
   "cell_type": "code",
   "execution_count": null,
   "metadata": {},
   "outputs": [],
   "source": [
    "# interacting with websites and web-APIs\n",
    "import requests # easy way to interact with web sites and services\n",
    "import json # read/write JavaScript Object Notation (JSON)\n",
    "\n",
    "# data manipulation\n",
    "import pandas as pd \n",
    "# normalize nested JSON files\n",
    "from pandas.io.json import json_normalize"
   ]
  },
  {
   "cell_type": "markdown",
   "metadata": {},
   "source": [
    "## How the request package works"
   ]
  },
  {
   "cell_type": "markdown",
   "metadata": {},
   "source": [
    "We first need to understand what all information can be accessed from the API. For that we use the example of the Citi Bike API to make the API call and check the information we get. We use the request function. To access the API response, we use the function call `requests.get(url).json()` which not only gets the response from the API for the url but also gets the JSON format for it. We then dump the data using `dump()` method into content so that we can view it in a more presentable view. In oder to tell Python what to access we need to specify the url of the API endpoint."
   ]
  },
  {
   "cell_type": "markdown",
   "metadata": {},
   "source": [
    "### Making a Request\n",
    "When you ping a website or portal for information this is called making a request. That is exactly what the requests library has been designed to do. There are many different types of requests. The most commonly used one, a GET request, is used to retrieve data.\n",
    "\n",
    "OpenNotify has several API endpoints. An endpoint is a server route that is used to retrieve different data from the API. You can see a listing of all the endpoints on OpenNotify here: http://open-notify.org/Open-Notify-API/"
   ]
  },
  {
   "cell_type": "code",
   "execution_count": null,
   "metadata": {},
   "outputs": [],
   "source": [
    "r = requests.get(\"http://api.open-notify.org/iss-now.json\")"
   ]
  },
  {
   "cell_type": "markdown",
   "metadata": {},
   "source": [
    "### Get the Response Code\n",
    "Before you can do anything with a website or URL in Python, it’s a good idea to check the current status code of said portal. You can do this with the dictionary look-up object. If you access an API the documentation will tell you more about specific resppnse codes to expect. However, in general you can see this types:\n",
    "- 200: everything went okay, and the result has been returned (if any)\n",
    "- 301: the server is redirecting you to a different endpoint. This can happen when a company switches domain names, or an endpoint name is changed.\n",
    "- 401: the server thinks you're not authenticated. This happens when you don't send the right credentials to access an API.\n",
    "- 400: the server thinks you made a bad request. This can happen when you don't send along the right data, among other things.\n",
    "- 403: the resource you're trying to access is forbidden -- you don't have the right permissions to see it.\n",
    "- 404: the resource you tried to access wasn't found on the server."
   ]
  },
  {
   "cell_type": "code",
   "execution_count": null,
   "metadata": {},
   "outputs": [],
   "source": [
    "r.status_code"
   ]
  },
  {
   "cell_type": "markdown",
   "metadata": {},
   "source": [
    "### Get the Content\n",
    "After a web server returns a response, you can collect the content you need. This is also done using the get requests function."
   ]
  },
  {
   "cell_type": "code",
   "execution_count": null,
   "metadata": {},
   "outputs": [],
   "source": [
    "print(r.content)"
   ]
  },
  {
   "cell_type": "markdown",
   "metadata": {},
   "source": [
    "Some endpoints require specific parameters. Such as the iss-pass endpoint. So we first have to set up these parameters and then pass them into the request"
   ]
  },
  {
   "cell_type": "code",
   "execution_count": null,
   "metadata": {},
   "outputs": [],
   "source": [
    "# Set up the parameters we want to pass to the API.\n",
    "# This is the latitude and longitude of New York City.\n",
    "parameters = {\"lat\": 40.71, \"lon\": -74}\n",
    "\n",
    "# Make a get request with the parameters.\n",
    "r = requests.get(\"http://api.open-notify.org/iss-pass.json\", params=parameters)\n",
    "\n",
    "# Print the content of the response (the data the server returned)\n",
    "print(r.content)\n",
    "print(r.url)"
   ]
  },
  {
   "cell_type": "code",
   "execution_count": null,
   "metadata": {},
   "outputs": [],
   "source": [
    "# This gets the same data as the command above\n",
    "# We can just include the parameters in the URL\n",
    "r2 = requests.get(\"http://api.open-notify.org/iss-pass.json?lat=40.71&lon=-74\")\n",
    "print(r2.content)"
   ]
  },
  {
   "cell_type": "markdown",
   "metadata": {},
   "source": [
    "## JavaScript Object Notation"
   ]
  },
  {
   "cell_type": "markdown",
   "metadata": {},
   "source": [
    "JSON is a way to encode data structures like lists and dictionaries to strings that ensures that they are easily readable by machines. JSON is the primary format in which data is passed back and forth to APIs, and most API servers will send their responses in JSON format.\n",
    "\n",
    "Python has great JSON support, with the json package. The json package is part of the standard library, so we don't have to install anything to use it. We can both convert lists and dictionaries to JSON, and convert strings to lists and dictionaries. In the case of our ISS Pass data, it is a dictionary encoded to a string in JSON format.\n",
    "\n",
    "The json library has two main methods:\n",
    "\n",
    "1. `dumps` -- Takes in a Python object, and converts it to a string.\n",
    "2. `loads` -- Takes a JSON string, and converts it to a Python object."
   ]
  },
  {
   "cell_type": "code",
   "execution_count": null,
   "metadata": {},
   "outputs": [],
   "source": [
    "# Same request, but returning a json file\n",
    "parameters = {\"lat\": 40.71, \"lon\": -74}\n",
    "r = requests.get(\"http://api.open-notify.org/iss-pass.json\", params=parameters)\n",
    "\n",
    "# Get the response data as a python object. Verify that it's a dictionary.\n",
    "data = r.json()\n",
    "print(type(data))\n",
    "print(data)"
   ]
  },
  {
   "cell_type": "code",
   "execution_count": null,
   "metadata": {},
   "outputs": [],
   "source": [
    "# Now we can access specific cells in the dictionary\n",
    "print(data[\"request\"])\n",
    "print(data[\"request\"] ['passes'])\n",
    "print(data[\"response\"])"
   ]
  },
  {
   "cell_type": "code",
   "execution_count": null,
   "metadata": {},
   "outputs": [],
   "source": [
    "df = pd.DataFrame(data['response'])\n",
    "df"
   ]
  },
  {
   "cell_type": "markdown",
   "metadata": {},
   "source": [
    "## Querying the Patent API"
   ]
  },
  {
   "cell_type": "markdown",
   "metadata": {},
   "source": [
    "The PatentsView platform is built on data derived from the US Patent and Trademark Office (USPTO) to link inventors, their organizations, locations, and overall patenting activity. The PatentsView API provides programmatic access to longitudinal data and metadata on patents, inventors, companies, and geographic locations. \n",
    "\n",
    "To access the API, we use the `request` function. In oder to tell Python what to access we need to specify the url of the API endpoint.\n",
    "\n",
    "PatentsView has several API endpoints. An endpoint is a server route that is used to retrieve different data from the API. You can think of the endpoints as just specifying what types of data you want. An Example of a PatentsView API endpoint is: http://www.patentsview.org/api/doc.html\n",
    "\n",
    "Currently no key is necessary to access the PatentsView API. To make a request we need to provide a query URL according to the format defined by PatentsView. The details on how to do that is explained at this link: https://www.patentsview.org/api/query-language.html."
   ]
  },
  {
   "cell_type": "markdown",
   "metadata": {},
   "source": [
    "### Query String Format\n",
    "\n",
    "The query string is always a single JSON object: **{`<field>`:`<value>`}**, where `<field>` is the name of a database field and `<value>` is the value the field will be compared to for equality (Each API Endpoint section contains a list of the data fields that can be selected for inclusion in output datasets).\n",
    "\n",
    "We use the following base URL for the Patents Endpoint:\n",
    "\n",
    "**Base URL**: `http://www.patentsview.org/api/patents/query?q={criteria}`\n"
   ]
  },
  {
   "cell_type": "markdown",
   "metadata": {},
   "source": [
    "### First Query: Retrieve all patents for Stanford University\n",
    "\n",
    "In this example, we will only pull patents from one organization: Stanford University. Let's go to the Patents Endpoint (http://www.patentsview.org/api/patent.html) and find the appropriate field for the organization's name.\n",
    "\n",
    "The variable that we need is called `\"assignee_organization\"` (organization name, if assignee is organization)\n",
    "\n",
    "> _Note_: **Assignee**: the name of the entity - company, foundation, partnership, holding company or individual - that owns the patent. In this example we are looking at universities (organization-level)."
   ]
  },
  {
   "cell_type": "markdown",
   "metadata": {},
   "source": [
    "We will pull from the API using a step-by-step process:\n",
    "- build the query,\n",
    "- get the response,\n",
    "- check the response code,\n",
    "- get the content,\n",
    "- convert to table.\n",
    "\n",
    "By the end, we should have data about patents that we can work with using the tools we've already learned."
   ]
  },
  {
   "cell_type": "markdown",
   "metadata": {},
   "source": [
    "### Build the URL query \n",
    "\n",
    "Let's build our first URL query by combining the base url with one criterion (name of the `assignee_organization`)\n",
    "\n",
    "**base url**: `http://www.patentsview.org/api/patents/query?` + **criterion**: `q={\"assignee_organization\":\"stanford university\"}`"
   ]
  },
  {
   "cell_type": "code",
   "execution_count": null,
   "metadata": {},
   "outputs": [],
   "source": [
    "# Save the URL in an object\n",
    "base_url = 'http://www.patentsview.org/api/patents/query?'"
   ]
  },
  {
   "cell_type": "code",
   "execution_count": null,
   "metadata": {},
   "outputs": [],
   "source": [
    "# Save the query criterion in an object\n",
    "criterion = 'q={assignee_organization\":\"stanford university\"}'"
   ]
  },
  {
   "cell_type": "code",
   "execution_count": null,
   "metadata": {},
   "outputs": [],
   "source": [
    "option = '&o={\"matched_subentities_only\": \"false\"}'"
   ]
  },
  {
   "cell_type": "code",
   "execution_count": null,
   "metadata": {},
   "outputs": [],
   "source": [
    "field = '&f=[\"assignee_organization\", \"patent_id\" , \"patent_number\", \"patent_title\"]'"
   ]
  },
  {
   "cell_type": "code",
   "execution_count": null,
   "metadata": {},
   "outputs": [],
   "source": [
    "# we can check the entries\n",
    "print(base_url)\n",
    "print(criterion)\n",
    "print(option)"
   ]
  },
  {
   "cell_type": "code",
   "execution_count": null,
   "metadata": {},
   "outputs": [],
   "source": [
    "# Combine the base URL with the criterion to create a finalized URL link\n",
    "url = base_url + criterion + field + option\n",
    "print(url)"
   ]
  },
  {
   "cell_type": "markdown",
   "metadata": {},
   "source": [
    "### Get the response and check the response code\n",
    "Now lets get the response using the URL defined above and the `requests` library. Checking the response code will help us to find out if the query was successful. The documentation of the response codes can be obtained from the description of the API. \n",
    "\n",
    "The following are the response codes for the PatentsView API:\n",
    "\n",
    "`200` - the query parameters are all valid; the results will be in the body of the response.\n",
    "\n",
    "`400` - the query parameters are not valid, typically either because they are not in valid JSON format, or a specified field or value is not valid; the “status reason” in the header will contain the error message.\n",
    "\n",
    "`500` -  there is an internal error with the processing of the query; the “status reason” in the header will contain the error message."
   ]
  },
  {
   "cell_type": "code",
   "execution_count": null,
   "metadata": {},
   "outputs": [],
   "source": [
    "# Get response from the URL.\n",
    "r = requests.get(url)\n",
    "r.status_code  # Check the status code"
   ]
  },
  {
   "cell_type": "markdown",
   "metadata": {},
   "source": [
    "### Get the content\n",
    "After a web server returns a response, you can collect the content you need by converting it into a JSON format. JSON is a way to encode data structures like lists and dictionaries to strings that ensures that they are easily readable by machines. JSON is the primary format in which data is passed back and forth to APIs, and most API servers will send their responses in JSON format."
   ]
  },
  {
   "cell_type": "code",
   "execution_count": null,
   "metadata": {},
   "outputs": [],
   "source": [
    "# Convert response to JSON format\n",
    "response = r.json() "
   ]
  },
  {
   "cell_type": "markdown",
   "metadata": {},
   "source": [
    "By default, we get information on `patent_id`, `patent_number`, and `patent_title`. At the end of the JSON you will see how many results are returned (variable `count`) and the total number of patents found (variable `total_patent_count`)."
   ]
  },
  {
   "cell_type": "code",
   "execution_count": null,
   "metadata": {},
   "outputs": [],
   "source": [
    "# View JSON\n",
    "response"
   ]
  },
  {
   "cell_type": "markdown",
   "metadata": {},
   "source": [
    "The returned JSON file has a dictionary structure (dictionaries are identified by curly backets `{}`), which includes keys and values (e.g. in `patent_id`:`4200770`, `patent_id` is a key and `4200770` is a value of that key)."
   ]
  },
  {
   "cell_type": "code",
   "execution_count": null,
   "metadata": {},
   "outputs": [],
   "source": [
    "# We can see this when we ask for the type\n",
    "type(response)"
   ]
  },
  {
   "cell_type": "markdown",
   "metadata": {},
   "source": [
    "We can check how many keys this JSON has by using `.keys()` function:"
   ]
  },
  {
   "cell_type": "code",
   "execution_count": null,
   "metadata": {},
   "outputs": [],
   "source": [
    "response.keys()"
   ]
  },
  {
   "cell_type": "markdown",
   "metadata": {},
   "source": [
    "And we can find out how many values each key has:"
   ]
  },
  {
   "cell_type": "code",
   "execution_count": null,
   "metadata": {},
   "outputs": [],
   "source": [
    "# Print all the contents of our response\n",
    "print(response['count'])\n",
    "print(response['total_patent_count'])\n",
    "print(response['patents'])"
   ]
  },
  {
   "cell_type": "markdown",
   "metadata": {},
   "source": [
    "The `patents` key is interesting. It contains not just a single value, but a list of values (lists are identified by square brackets `[]`). This shows us that dictionaries also can be hierarchical, or nested: the level `patents` contains a list with multiple elements in it."
   ]
  },
  {
   "cell_type": "markdown",
   "metadata": {},
   "source": [
    "The key `patents` contains 25 elements, or, as we can see, mini-dictionaries (identified by the curly brackets `{}`), with their own keys and values. Every element in a list is a patent with its ID, number, and title. Every patent's information can be accessed by calling:"
   ]
  },
  {
   "cell_type": "code",
   "execution_count": null,
   "metadata": {},
   "outputs": [],
   "source": [
    "# Show the first patent only\n",
    "response['patents'][0]  "
   ]
  },
  {
   "cell_type": "code",
   "execution_count": null,
   "metadata": {},
   "outputs": [],
   "source": [
    "# Show the first 3 patents\n",
    "response['patents'][0:3] "
   ]
  },
  {
   "cell_type": "markdown",
   "metadata": {},
   "source": [
    "### Convert to a dataframe\n",
    "We can convert JSON information on patents into a table format very easily. "
   ]
  },
  {
   "cell_type": "code",
   "execution_count": null,
   "metadata": {},
   "outputs": [],
   "source": [
    "# Convert to pandas dataframe\n",
    "stanford = pd.DataFrame(response['patents'])  \n",
    "stanford.head()"
   ]
  },
  {
   "cell_type": "markdown",
   "metadata": {},
   "source": [
    "### Adding more fields to the query"
   ]
  },
  {
   "cell_type": "code",
   "execution_count": null,
   "metadata": {},
   "outputs": [],
   "source": [
    "json_normalize(response['patents'], record_path='assignees', meta=['patent_id','patent_title', 'patent_number']).head()"
   ]
  },
  {
   "cell_type": "markdown",
   "metadata": {},
   "source": [
    "Above we were able to pull data with the default information on the patents (`patent_id`, `patent_number`, `patent_title`). \n",
    "\n",
    "It might be useful to know additional information on patents, such as patent classification and application date.\n",
    "\n",
    "Let's look for those variables in the API Endpoint (http://www.patentsview.org/api/patent.html), and add those fields to our query.\n",
    "\n",
    "We will use the USPC classification (United States Patent Classification) variable called `uspc_mainclass_title`.\n",
    "\n",
    "The application date varible is called `app_date`.\n",
    "\n",
    "To the URL created above, we will add the fields parameter: `&f=[\"patent_id\", \"patent_title\",\"uspc_mainclass_title\",\"app_date\"]`."
   ]
  },
  {
   "cell_type": "code",
   "execution_count": null,
   "metadata": {},
   "outputs": [],
   "source": [
    "url_fields = url + '&f=[\"patent_id\", \"patent_title\",\"uspc_mainclass_title\",\"app_date\"]'\n",
    "print(url_fields)"
   ]
  },
  {
   "cell_type": "code",
   "execution_count": null,
   "metadata": {},
   "outputs": [],
   "source": [
    "r = requests.get(url_fields)  # Get response from the URL\n",
    "r.status_code  # Check the status code\n",
    "response = r.json()  # Convert response to JSON format\n",
    "response  # View JSON"
   ]
  },
  {
   "cell_type": "markdown",
   "metadata": {},
   "source": [
    "We can see that this response return a nested JSON file. This one is harder to access,but luckily there is a library we can use to unpack the JSON. For complex nested JSON files we use the `json_normalize` function in `pandas` (https://pandas.pydata.org/pandas-docs/stable/reference/api/pandas.io.json.json_normalize.html)."
   ]
  },
  {
   "cell_type": "code",
   "execution_count": null,
   "metadata": {},
   "outputs": [],
   "source": [
    "# Unpack the patents key\n",
    "json_normalize(response['patents']).head()"
   ]
  },
  {
   "cell_type": "markdown",
   "metadata": {},
   "source": [
    "We can now see the `patent_id`, `patent_title`, but we still need to \n",
    "break down `applications` and `uspcs` further. For that, we will specify the `record_path`."
   ]
  },
  {
   "cell_type": "code",
   "execution_count": null,
   "metadata": {},
   "outputs": [],
   "source": [
    "# First, specify the record path for the applications\n",
    "json_normalize(response['patents'], record_path='applications').head()"
   ]
  },
  {
   "cell_type": "markdown",
   "metadata": {},
   "source": [
    "It shows us the values of the `applications` key, but we also want to know the associated `patent_id` and `patent_title`. We can specify those variables using the `meta` argument."
   ]
  },
  {
   "cell_type": "code",
   "execution_count": null,
   "metadata": {},
   "outputs": [],
   "source": [
    "json_normalize(response['patents'], record_path='applications', meta=['patent_id','patent_title']).head()"
   ]
  },
  {
   "cell_type": "code",
   "execution_count": null,
   "metadata": {},
   "outputs": [],
   "source": [
    "# Save result in dataframe\n",
    "patent_app_date = (json_normalize(response['patents'], record_path='applications', \n",
    "                                  meta=['patent_id','patent_title']))"
   ]
  },
  {
   "cell_type": "code",
   "execution_count": null,
   "metadata": {},
   "outputs": [],
   "source": [
    "# repeat the process for the uspcs key and save it into another dataframe\n",
    "patent_class = (json_normalize(response['patents'], record_path='uspcs', \n",
    "                               meta=['patent_id','patent_title']))"
   ]
  },
  {
   "cell_type": "markdown",
   "metadata": {},
   "source": [
    "Now we can merge the two tables on `patent_id` and `patent_title` to get a complete table with the application date and the patent class."
   ]
  },
  {
   "cell_type": "code",
   "execution_count": null,
   "metadata": {},
   "outputs": [],
   "source": [
    "stanford_all = patent_class.merge(patent_app_date,on=['patent_id','patent_title'])\n",
    "stanford_all"
   ]
  },
  {
   "cell_type": "markdown",
   "metadata": {},
   "source": [
    "## Customize the number of results\n",
    "\n",
    "As you might have noticed, by default, only 25 results are returned in one request. To change the number of results returned (for example, 50 results), add the option parameter to the query URL: `&o={\"page\":1,\"per_page\":50}`. To get the second page, specify `&o={\"page\":2,\"per_page\":50)`."
   ]
  },
  {
   "cell_type": "code",
   "execution_count": null,
   "metadata": {},
   "outputs": [],
   "source": [
    "# Increase the number of results that are returned\n",
    "url_page_1 = url_fields + '&o={\"page\":1,\"per_page\":50}'\n",
    "r = requests.get(url_page_1)\n",
    "r.status_code\n",
    "response_page_1 = r.json()"
   ]
  },
  {
   "cell_type": "markdown",
   "metadata": {},
   "source": [
    "Now the JSON shows 50 results (as noted in the variable `count`)."
   ]
  },
  {
   "cell_type": "code",
   "execution_count": null,
   "metadata": {},
   "outputs": [],
   "source": [
    "response_page_1['count']"
   ]
  },
  {
   "cell_type": "code",
   "execution_count": null,
   "metadata": {},
   "outputs": [],
   "source": []
  }
 ],
 "metadata": {
  "kernelspec": {
   "display_name": "Python 3",
   "language": "python",
   "name": "python3"
  },
  "language_info": {
   "codemirror_mode": {
    "name": "ipython",
    "version": 3
   },
   "file_extension": ".py",
   "mimetype": "text/x-python",
   "name": "python",
   "nbconvert_exporter": "python",
   "pygments_lexer": "ipython3",
   "version": "3.7.4"
  }
 },
 "nbformat": 4,
 "nbformat_minor": 4
}
