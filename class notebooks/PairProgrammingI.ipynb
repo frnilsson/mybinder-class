{
 "cells": [
  {
   "cell_type": "markdown",
   "metadata": {},
   "source": [
    "# Pair Programming Exercises: Python and Pandas"
   ]
  },
  {
   "cell_type": "markdown",
   "metadata": {},
   "source": [
    "## What is Pair Programming? "
   ]
  },
  {
   "cell_type": "markdown",
   "metadata": {},
   "source": [
    "Pair programming is the practice of pairing up to work on programming tasks. Most forms of pair programming involve taking turns typing code or commands. One person types (the “driver”) while the other person thinks through what is being done, and what needs to be done next (the “navigator”). These roles are frequently swapped. Both members must verbalize their thought processes for pair programming to be effective. Successful pair programming relies on successful communication as much as programming skill. The premise of pair programming is that when working on a complex task, “two heads are better than one.”"
   ]
  },
  {
   "cell_type": "markdown",
   "metadata": {},
   "source": [
    "## What is the Goal of this Exercise?"
   ]
  },
  {
   "cell_type": "markdown",
   "metadata": {},
   "source": [
    "The goal of the assignment is to test your knowledge on basic Pandas operations and get to know the data. You will work on this excerise using the data on grants and patents in our shared drive in the data folder. The data dictionary can be found in documentation folder. \n",
    "\n",
    "Please answer the following questions: \n",
    "\n",
    "\n",
    "1. Load the dataset \"patents_2018\" that is located in the data folder under patents in our shared drive and find out the number of rows and columns in the dataset\n",
    "2. Select the first 50 rows of the \"patents_2018\" sorted by patent number and display them. Which is the organization in row 26?\n",
    "3. How many unique first named inventors are in the file? A name in this case is a full name consiting of first and last name.\n",
    "4. How many patents can you find in 2018 that include the word \"Data Science\" in their title?\n",
    "5. How many first named assignee organizations are in each U.S. state?\n",
    "6. Safe the result of 5. in a csv file\n",
    "7. Load the dataset \"FedRePORTER_PRJ_C_FY2018.csv\" that is located in the data folder under projects in our shared drive and find out the number of rows and columns in the dataset\n",
    "8. How long was the average duration of a project in 2018?\n",
    "9. Count the number of funded projects over 50,000 USD for 2018 and compare it with the count of funded projects over 50,000 USD in 2010.\n",
    "10. What is the total amount of funding in each state in the U.S. in 2018?\n",
    "11. Save the result of 10. in a csv file\n",
    "12. Merge the csv files from 6. and 11. \n",
    "13. Use the merged data from 12. and compare the amounts of funding in each state with the number of patents granted in each state. Do you see a relationship? "
   ]
  },
  {
   "cell_type": "code",
   "execution_count": null,
   "metadata": {},
   "outputs": [],
   "source": [
    "%pwd"
   ]
  },
  {
   "cell_type": "code",
   "execution_count": null,
   "metadata": {},
   "outputs": [],
   "source": [
    "import pandas as pd"
   ]
  },
  {
   "cell_type": "code",
   "execution_count": null,
   "metadata": {},
   "outputs": [],
   "source": [
    "df = pd.read_csv(\"patents_2018.csv\", low_memory=False)"
   ]
  },
  {
   "cell_type": "code",
   "execution_count": null,
   "metadata": {},
   "outputs": [],
   "source": [
    "df.shape"
   ]
  },
  {
   "cell_type": "code",
   "execution_count": null,
   "metadata": {},
   "outputs": [],
   "source": []
  },
  {
   "cell_type": "code",
   "execution_count": null,
   "metadata": {},
   "outputs": [],
   "source": []
  }
 ],
 "metadata": {
  "kernelspec": {
   "display_name": "Python 3",
   "language": "python",
   "name": "python3"
  },
  "language_info": {
   "codemirror_mode": {
    "name": "ipython",
    "version": 3
   },
   "file_extension": ".py",
   "mimetype": "text/x-python",
   "name": "python",
   "nbconvert_exporter": "python",
   "pygments_lexer": "ipython3",
   "version": "3.7.3"
  }
 },
 "nbformat": 4,
 "nbformat_minor": 4
}
