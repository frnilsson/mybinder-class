{
 "cells": [
  {
   "cell_type": "markdown",
   "metadata": {},
   "source": [
    "# Overview of the Computing Space"
   ]
  },
  {
   "cell_type": "markdown",
   "metadata": {},
   "source": [
    "The Class Binder is the computing environment in which we will be doing all our data analyses for the class. It provides you with all the resource you need to work on your assignments and projects. \n",
    "\n",
    "Once you are connected to Jupyter please don't forget to add your Yandex drive. Only this will allow you to save your work permanently or access the class notebooks and data. To connect your drive please \n",
    "1. Open a terminal window and type `yandex-disk setup`\n",
    "2. Select `N` in \"Would you like to use a proxy server? [y/N]:\"\n",
    "3. You will be asked for your Yandex log in. Please type your credentials and password\n",
    "4. Hit `Enter` in \"Enter path to Yandex.Disk folder (Leave empty to use default folder '/home/jovyan/Yandex.Disk'):\"\n",
    "5. Hit `Enter` in \"Would you like Yandex.Disk to launch on startup? [Y/n]:\""
   ]
  },
  {
   "cell_type": "markdown",
   "metadata": {},
   "source": [
    "You can find your Yandex Disk on the navigation bar on the left. You should be able to see the class folder in `Yandex.Disk`. The class folder is called `BigDataPubPol` and contains three subfolders `data`, `documentation`, and `notebooks`. You can find follwing files in these folders: \n",
    "* `data`: This folder contains the data we will be using in the class. You have to use at least one of the data sources for your individual or group class project. You can merge external data sources if you like. \n",
    "* `documentation`: This folder contains info on the class data, such as links to descriptions, manuals, data dictionaries and resources online. We will add material to this folder throughout the semester. If you find any documentation material that you want us to share with the class please send it to deh341@nyu.edu and we will upload the documents. \n",
    "* `notebooks`: This folder contains the jupyter notebooks we will be using in class. You can use these as templates for your own analyses and to practive your coding skills. "
   ]
  },
  {
   "cell_type": "markdown",
   "metadata": {},
   "source": [
    "# Markdown"
   ]
  },
  {
   "cell_type": "markdown",
   "metadata": {},
   "source": [
    "Markdown is a plain-text formatting syntax. It enables you write documents in plain text, readable by others in plain text, and optionally rendered into nicely formatted PDF, HTML, DOCX etc.\n",
    "\n",
    "It’s used widely in software documentation, particularly open-source, because it enables richer formatting than plain-text alone, but without constraining authors or readers to a given software platform.\n",
    "\n",
    "In Jupyter notebooks you can use markdown in any cells you don't want to have code. For example, you can use it to describe what your research is about and to document your code. In the drop dwon menu above you select for each cell if this is code or markdown. "
   ]
  },
  {
   "cell_type": "markdown",
   "metadata": {},
   "source": [
    "## Simple Markdown Formatting"
   ]
  },
  {
   "cell_type": "markdown",
   "metadata": {},
   "source": [
    "When you define a jupyther cell as markdown you can write any text. If you want your text to be **bold** you can enclose the text within **two asterisks on both sides of the word**. If you want to your text to be italics use *one asterisk instead*. \n",
    "\n",
    "Headings are indicated with #, subheadinggs with ##, ###, ####, depending on how many levels you need. \n",
    "\n",
    "# H1\n",
    "## H2\n",
    "### H3\n",
    "#### H4\n",
    "##### H5\n",
    "###### H6\n",
    "\n",
    "You can make **unordered** lists by using the minus, plus or asterisk symbol:\n",
    "- Just type a dash and then your first element\n",
    "* and then the second\n",
    "\n",
    "And then there are **ordered** lists, you can obtain by just typing the number. Subitems are indicated with an indent.\n",
    "1. First ordered list item\n",
    "2. Another item\n",
    "  * Unordered sub-list. \n",
    "1. Actual numbers don't matter, just that it's a number\n",
    "  1. Ordered sub-list\n",
    "4. And another item.\n",
    "\n",
    "Sometimes you want to quote somebody elses thoughts which you can easily do too by using > in front of the statement you want to quote: \n",
    "> Blockquotes are also very handy in email to emulate reply text.\n",
    "> This line is part of the same quote.\n",
    "\n",
    "If you are more familiar with html you can also use that. Markdown renders html too:\n",
    "\n",
    "<dl>\n",
    "  <dt>Definition list</dt>\n",
    "  <dd>Is something people use sometimes.</dd>\n",
    "\n",
    "  <dt>Markdown in HTML</dt>\n",
    "  <dd>Does *work* **very** well. Or use HTML <em>tags</em>.</dd>\n",
    "</dl>\n",
    "\n",
    "***\n",
    "\n",
    "You can make rules with either three or more Asterisks, or Underscores\n",
    "\n",
    "___"
   ]
  },
  {
   "cell_type": "markdown",
   "metadata": {},
   "source": [
    "## Embetting Images in Markdown"
   ]
  },
  {
   "cell_type": "markdown",
   "metadata": {},
   "source": [
    "You can have pictures in your markdown document too by using the syntax `![alt text] (link to picture)`, either by getting it direcly from a website and inserting the link or the path to where it is located in your home folder.\n",
    "\n",
    "![The five safes framewrk is the security concept of the ADRF](https://adrf.readthedocs.io/en/latest/_images/5safes.png)"
   ]
  },
  {
   "cell_type": "markdown",
   "metadata": {},
   "source": [
    "## Markdown can make tables too"
   ]
  },
  {
   "cell_type": "markdown",
   "metadata": {},
   "source": [
    "Colums are seperated by |. To indicate that you want to make a table you need at least 3 dashes --- separating each header cell.\n",
    "\n",
    "Col 1 | Col 2 | Col 3\n",
    "--- | --- | ---\n",
    "value 1 | value 2 | value 3\n",
    "and 1 | and 2 | and 3\n",
    "and 4 | and 5 | and 6"
   ]
  },
  {
   "cell_type": "markdown",
   "metadata": {},
   "source": [
    "# Basic Linux"
   ]
  },
  {
   "cell_type": "markdown",
   "metadata": {},
   "source": [
    "The following will list some basic linux command that will get handy when you want to access your folder throught the terminal. A complete list can be found at https://www-uxsup.csx.cam.ac.uk/pub/doc/suse/suse9.0/userguide-9.0/ch24s04.html. \n",
    "- You can open the Terminal by clicking \"New\" in the upper-right corner, when you are in your project directory folder. Click the New button and select Terminal http://cusp.adrf.cloud/terminal.\n",
    "- Or directluy execute linux commands from your notebook by marking linux commands with %"
   ]
  },
  {
   "cell_type": "code",
   "execution_count": 1,
   "metadata": {},
   "outputs": [
    {
     "data": {
      "text/plain": [
       "'/home/jovyan/Yandex.Disk/BigDataPubPol/notebooks'"
      ]
     },
     "execution_count": 1,
     "metadata": {},
     "output_type": "execute_result"
    }
   ],
   "source": [
    "# Where is my working directory?\n",
    "%pwd"
   ]
  },
  {
   "cell_type": "code",
   "execution_count": 2,
   "metadata": {},
   "outputs": [
    {
     "name": "stdout",
     "output_type": "stream",
     "text": [
      "'Computing Environment and Command Line.ipynb'   Untitled.ipynb\n",
      "'Python and Pandas.ipynb'\n"
     ]
    }
   ],
   "source": [
    "# What is in my working directory?\n",
    "%ls"
   ]
  },
  {
   "cell_type": "code",
   "execution_count": null,
   "metadata": {
    "scrolled": true
   },
   "outputs": [],
   "source": [
    "# Our shared folder for the class is in the project folder\n",
    "# Let's switch directories and list the content of the project folder\n",
    "%cd ..\n",
    "%ls"
   ]
  },
  {
   "cell_type": "code",
   "execution_count": null,
   "metadata": {},
   "outputs": [],
   "source": [
    "# We found it. \n",
    "%ls -l"
   ]
  },
  {
   "cell_type": "code",
   "execution_count": null,
   "metadata": {
    "scrolled": true
   },
   "outputs": [],
   "source": [
    "# Let's check out the data folder and view some data sets\n",
    "%cd data/projects\n",
    "%ls"
   ]
  },
  {
   "cell_type": "code",
   "execution_count": null,
   "metadata": {
    "scrolled": true
   },
   "outputs": [],
   "source": [
    "# You can even open files\n",
    "%cat FedRePORTER_PRJ_C_FY2010.csv"
   ]
  },
  {
   "cell_type": "code",
   "execution_count": null,
   "metadata": {},
   "outputs": [],
   "source": [
    "# Now let's go back to main Data folder\n",
    "%cd .."
   ]
  },
  {
   "cell_type": "code",
   "execution_count": null,
   "metadata": {
    "scrolled": true
   },
   "outputs": [],
   "source": [
    "# You can make new directories\n",
    "%mkdir EXAMPLE\n",
    "%ls -l"
   ]
  },
  {
   "cell_type": "code",
   "execution_count": null,
   "metadata": {},
   "outputs": [],
   "source": [
    "# And delete the directory again\n",
    "%rmdir EXAMPLE\n",
    "%ls"
   ]
  },
  {
   "cell_type": "markdown",
   "metadata": {},
   "source": [
    "And there are so many more commands. Feel free to play around to get more familiar with the command line. "
   ]
  },
  {
   "cell_type": "markdown",
   "metadata": {},
   "source": [
    "## Linux Commands"
   ]
  },
  {
   "cell_type": "markdown",
   "metadata": {},
   "source": [
    "\n",
    "- ls (ls -l): show all of the major directories filed under a given file system (detailed list with permissions)\n",
    "- cd: change between file directories\n",
    "- mkdir, rmdir: make/remove a directory\n",
    "- mv: move a file to another folder or directory\n",
    "- man/help: shows help menu for the respective command\n",
    "- touch: allows you to make a file\n",
    "- echo “XXX” > file.md: generates file with text\n",
    "- rm: removes files\n",
    "- locate/find: helps you find a file\n",
    "- clear: clears the screen\n",
    "- cp: copies file\n",
    "- ~ home directory\n",
    "- cat: opens file\n",
    "- pwd: to see where we currently are\n",
    " "
   ]
  },
  {
   "cell_type": "markdown",
   "metadata": {},
   "source": [
    "## How to Adress Paths"
   ]
  },
  {
   "cell_type": "markdown",
   "metadata": {},
   "source": [
    "- There are absolute and relative paths\n",
    "- The file system under linux is a hierarchical structure\n",
    "- At the top of the structure is the root directory. It is denoted by a single slash ( / )\n",
    "- Absolute paths specify a location (file or directory) in relation to the root directory. They always begin with /\n",
    "- Relative paths specify a location (file or directory) in relation to where we currently are. The do not begin with /\n",
    " "
   ]
  },
  {
   "cell_type": "markdown",
   "metadata": {},
   "source": [
    "## Reference Points"
   ]
  },
  {
   "cell_type": "markdown",
   "metadata": {},
   "source": [
    "- ~ (tilde) - This is a shortcut for your home directory\n",
    "- . (dot) - This is a reference to your current directory\n",
    "- .. (dotdot) - This is a reference to the parent directory. You can use this several times in a path to keep going up the hierarchy\n",
    " "
   ]
  },
  {
   "cell_type": "code",
   "execution_count": null,
   "metadata": {},
   "outputs": [],
   "source": []
  },
  {
   "cell_type": "code",
   "execution_count": null,
   "metadata": {},
   "outputs": [],
   "source": []
  }
 ],
 "metadata": {
  "kernelspec": {
   "display_name": "Python 3",
   "language": "python",
   "name": "python3"
  },
  "language_info": {
   "codemirror_mode": {
    "name": "ipython",
    "version": 3
   },
   "file_extension": ".py",
   "mimetype": "text/x-python",
   "name": "python",
   "nbconvert_exporter": "python",
   "pygments_lexer": "ipython3",
   "version": "3.7.3"
  }
 },
 "nbformat": 4,
 "nbformat_minor": 4
}
