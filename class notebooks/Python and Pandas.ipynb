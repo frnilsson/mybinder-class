{
 "cells": [
  {
   "cell_type": "markdown",
   "metadata": {},
   "source": [
    "# Intro: Python and Pandas"
   ]
  },
  {
   "cell_type": "markdown",
   "metadata": {},
   "source": [
    "This notebook will provide you with a short introduction into the basic command in Python, and specifically the basic commands of the pandas packages which will help you investigate and prepare data for subsequent analyses. If you are new to Python and need more resources you can do a free online intro class through [DataCamp](https://www.datacamp.com/courses/intro-to-python-for-data-science). \n",
    "\n",
    "After todays class you will be able to read in data from flatfiles and execute basic data manipulations using Pandas. "
   ]
  },
  {
   "cell_type": "markdown",
   "metadata": {},
   "source": [
    "## Table of Contents\n",
    "1. [General Remarks](#General-Remarks)\n",
    "    1. [Python Setup](#Python-Setup)\n",
    "1. [Data Analysis in Pandas](#Data-Analysis-in-Pandas)\n",
    "    1. [Loading Data](#Load-the-Data)\n",
    "    1. [Displaying Data](#Displaying-Data)\n",
    "    1. [Columns, rows, data selection](#Columns,-rows,-data-selection)\n",
    "    1. [Subsetting Data](#Subsetting-Data)\n",
    "    1. [Statistics](#Statistics)\n",
    "    1. [Adding and Updating Data](#Adding-and-Updating-Data)\n",
    "    1. [Grouping and Aggregating Data](#Grouping-and-Aggregating-Data)\n",
    "    1. [Merging Dataframes](#Merging-Dataframes)\n",
    "    1. [Saving a CSV](#Saving-a-CSV)"
   ]
  },
  {
   "cell_type": "markdown",
   "metadata": {},
   "source": [
    "## General Remarks\n",
    "---\n",
    "\n",
    "Python: \n",
    "* Is a high-level interpreted general purpose programming language named after the Monty Python British comedy troupe\n",
    "* Was created by Guido van Rossum, and is maintained by an open source community\n",
    "* Is the fifth most popular programming language\n",
    "* Is an object orientied language\n",
    "* Is used mostly in data science because it is powerful and fast, and is compatible with other languages\n",
    "* Runs everywhere, it's easy to learn, it's highly readable, open-source and its fast development time compared to other languages\n",
    "* Comes with a growing and always-improving list of open-source libraries for scientific programming, data manipulation, and data analysis (e.g., Numpy, Scipy, Pandas, Scikit-Learn, Statsmodels, Matplotlib, Seaborn, PyTables, etc.)\n",
    "\n",
    "IPython/Jupyter\n",
    "* Is an enhanced, interactive python interpreter that started as a grad school project by Fernando Perez \n",
    "* Evolved into the IPython notebook, which allowed users to archive their code, figures, and analysis in a single document, making doing reproducible research and sharing said research much easier\n",
    "* Other languages including but not limited to Julia, Python and R were included. This then led to a rebranding known as the Jupyter Project"
   ]
  },
  {
   "cell_type": "markdown",
   "metadata": {},
   "source": [
    "### Python Setup"
   ]
  },
  {
   "cell_type": "markdown",
   "metadata": {},
   "source": [
    "- In Python, we `import` packages. The `import` command allows us to use libraries created by others in our own work by \"importing\" them. You can think of importing a library as opening up a toolbox and pulling out a specific tool. \n",
    "- NumPy is short for numerical python. NumPy is a lynchpin in Python's scientific computing stack. Its strengths include a powerful *N*-dimensional array object, and a large suite of functions for doing numerical computing. \n",
    "- Pandas is a library in Python for data analysis that uses the DataFrame object from R which is similiar to a spreedsheet but allows you to do your analysis programaticaly rather than the point-and-click of Excel. It is a lynchpin of the PyData stack.  \n",
    "- Matplotlib is the standard plotting library in python. \n",
    "`%matplotlib inline` is a so-called \"magic\" function of Jupyter that enables plots to be displayed inline with the code and text of a notebook. "
   ]
  },
  {
   "cell_type": "markdown",
   "metadata": {},
   "source": [
    "#### This is how the start of a notebook might look like"
   ]
  },
  {
   "cell_type": "code",
   "execution_count": 1,
   "metadata": {},
   "outputs": [
    {
     "name": "stdout",
     "output_type": "stream",
     "text": [
      "Populating the interactive namespace from numpy and matplotlib\n"
     ]
    }
   ],
   "source": [
    "# remember to put this line in your notebook, otherwise the visualization won't show up\n",
    "%pylab inline\n",
    "# import the packages\n",
    "# numpy for array and matrix computation\n",
    "import numpy as np\n",
    "\n",
    "# pandas for data analysis\n",
    "import pandas as pd\n",
    "\n",
    "# matplotlib and seaborn are the data visualization packages\n",
    "import matplotlib.pyplot as plt\n",
    "import seaborn as sns\n",
    "\n",
    "# configure pandas display: set the maximum number of columns displayed to 25\n",
    "pd.options.display.max_columns = 25"
   ]
  },
  {
   "cell_type": "markdown",
   "metadata": {},
   "source": [
    "In practice we typically load libraries like `numpy` and `pandas` with shortened aliases, e.g, `import numpy as np`. This is like saying, \"`import numpy`, and wherever you see `np`, read it as `numpy`.\" Similarly, you'll often see `import pandas as pd`, or `import matplotlib.pyplot as plt`. \n",
    "\n",
    "Another shortcut is `%pylab inline`. This command includes both `import numpy as np` and `import matplotlib.pyplot as plt `. This shortcut was invented because it's faster to type `plt.plot()` rather than `matplotlib.pyplot.plot()`, and even programmers don't like to type more than they have to. \n",
    "\n",
    "In documentation and in examples, you will frequently see `numpy` commands starting with the alias `np` rather than `numpy` (e.g, `np.array()` or `np.argsort`) and `pandas` commands starting with `pd` (e.g., `pd.DataFrame()` or `pd.concat()`)."
   ]
  },
  {
   "cell_type": "code",
   "execution_count": 2,
   "metadata": {},
   "outputs": [],
   "source": [
    "# This is how you make comments\n",
    "import pandas as pd"
   ]
  },
  {
   "cell_type": "markdown",
   "metadata": {},
   "source": [
    "In object-oriented programming languages like Python, an object is an entity that contains data along with associated metadata and/or functionality. In Python everything is an object, which means every entity has some metadata (called attributes) and associated functionality (called methods). These attributes and methods are accessed via the dot syntax. Even the attributes and methods of objects are themselves objects with their own type information"
   ]
  },
  {
   "cell_type": "code",
   "execution_count": 3,
   "metadata": {},
   "outputs": [],
   "source": [
    "# Python is an object based language, and these objects come with types\n",
    "x = 1         # x is an integer\n",
    "x = 'hello'   # x is a string\n",
    "x = [1, 2, 3] # x is a list"
   ]
  },
  {
   "cell_type": "markdown",
   "metadata": {},
   "source": [
    "You want to think of variables as pointers to objects, rather than of variables as buckets that contain data."
   ]
  },
  {
   "cell_type": "code",
   "execution_count": 4,
   "metadata": {},
   "outputs": [
    {
     "name": "stdout",
     "output_type": "stream",
     "text": [
      "[1, 2, 3]\n",
      "[1, 2, 3]\n"
     ]
    }
   ],
   "source": [
    "# And variables can point to the same objects\n",
    "x = [1, 2, 3]\n",
    "y = x\n",
    "print(x)\n",
    "print(y)\n"
   ]
  },
  {
   "cell_type": "code",
   "execution_count": 5,
   "metadata": {},
   "outputs": [
    {
     "name": "stdout",
     "output_type": "stream",
     "text": [
      "[1, 2, 3, 4]\n"
     ]
    }
   ],
   "source": [
    "# When you manipulate one the other changes as well\n",
    "x.append(4) # append 4 to the list pointed to by x\n",
    "print(y) # y's list is modified as well!"
   ]
  },
  {
   "cell_type": "code",
   "execution_count": 6,
   "metadata": {},
   "outputs": [
    {
     "name": "stdout",
     "output_type": "stream",
     "text": [
      "lower: [0, 1, 2, 3]\n",
      "upper: [4, 5, 6, 7]\n"
     ]
    }
   ],
   "source": [
    "## How to do easy operations: Let's say we have a list of numbers and we want to separate them into two lists\n",
    "# 1. set the halfway point: We generated a variable and assigned the value 8 to it\n",
    "half = 4\n",
    "\n",
    "# 2. generate the two lists (; allows us to generate this in one line)\n",
    "lower = []; upper = []\n",
    "\n",
    "# 3. split the numbers into lower and upper, and assign to list\n",
    "## In Python whitespace is meaningful! block of code is a set of statements that should be treated as a unit and\n",
    "## this is indicated by the indent. Indented code blocks are always preceded by a colon (:) on the previous line\n",
    "## however: whitespace within lines does not matter\n",
    "for i in range(8):\n",
    "    if (i < half):\n",
    "        lower.append(i)\n",
    "    else:\n",
    "        upper.append(i)\n",
    "        \n",
    "print(\"lower:\", lower)\n",
    "print(\"upper:\", upper)"
   ]
  },
  {
   "cell_type": "code",
   "execution_count": 7,
   "metadata": {},
   "outputs": [
    {
     "name": "stdout",
     "output_type": "stream",
     "text": [
      "My favorite nuymbers are [0, 1, 2, 3]\n"
     ]
    }
   ],
   "source": [
    "# You can print anything you want\n",
    "## syntax is different for python 2 and 3\n",
    "print(\"My favorite nuymbers are\", lower)"
   ]
  },
  {
   "cell_type": "code",
   "execution_count": 8,
   "metadata": {},
   "outputs": [
    {
     "name": "stdout",
     "output_type": "stream",
     "text": [
      "36\n"
     ]
    }
   ],
   "source": [
    "# linebreaks (enclosing the statement in () works too)\n",
    "x = 1 + 2 + 3 + 4 + \\\n",
    "    5 + 6 + 7 + 8\n",
    "    \n",
    "print(x)"
   ]
  },
  {
   "cell_type": "markdown",
   "metadata": {},
   "source": [
    "## Data Analysis in Pandas"
   ]
  },
  {
   "cell_type": "markdown",
   "metadata": {},
   "source": [
    "When we are working with Pandas we are thinking in terms of dataframes. It's a pandas representation of a spreadsheet/ sql table/Stata/R or SAS dataset. It contains information such as column names, row indices (starting from 0), and the actual data. They are the basic objects on which we will perform our data analysis."
   ]
  },
  {
   "cell_type": "markdown",
   "metadata": {},
   "source": [
    "### Loading Data"
   ]
  },
  {
   "cell_type": "markdown",
   "metadata": {},
   "source": [
    "Before we can start analysing the data we have to load it into memory. We can read in different kind of data formats. The Pandas package provides many ways to load data. It allows the user to read the data from a local csv or excel file, or pull the data from a relational database. We use a function within the pandas packages that is called `pandas.read_csv` (https://pandas.pydata.org/pandas-docs/version/0.21/generated/pandas.read_csv.html)"
   ]
  },
  {
   "cell_type": "code",
   "execution_count": 9,
   "metadata": {},
   "outputs": [
    {
     "name": "stdout",
     "output_type": "stream",
     "text": [
      "/home/jovyan\n",
      "/home/jovyan/Yandex.Disk/BigDataPubPol/data/projects\n",
      "FedRePORTER_PRJ_C_FY2010.csv  FedRePORTER_PRJ_C_FY2015.csv\n",
      "FedRePORTER_PRJ_C_FY2012.csv  FedRePORTER_PRJ_C_FY2016.csv\n",
      "FedRePORTER_PRJ_C_FY2013.csv  FedRePORTER_PRJ_C_FY2017.csv\n",
      "FedRePORTER_PRJ_C_FY2014.csv  FedRePORTER_PRJ_C_FY2018.csv\n"
     ]
    }
   ],
   "source": [
    "# Let's check where we are first and switch into the correct directory\n",
    "%pwd\n",
    "%cd ~\n",
    "%cd \"Yandex.Disk/BigDataPubPol/data/projects\"\n",
    "%ls"
   ]
  },
  {
   "cell_type": "code",
   "execution_count": 10,
   "metadata": {},
   "outputs": [],
   "source": [
    "df = pd.read_csv(\"FedRePORTER_PRJ_C_FY2010.csv\", low_memory=False)"
   ]
  },
  {
   "cell_type": "markdown",
   "metadata": {},
   "source": [
    "After the dataset is loaded how do we find out what is in the data? "
   ]
  },
  {
   "cell_type": "markdown",
   "metadata": {},
   "source": [
    "### Displaying Data"
   ]
  },
  {
   "cell_type": "code",
   "execution_count": null,
   "metadata": {},
   "outputs": [],
   "source": [
    "#### The shape and the columns of the dataframe\n",
    "When we get the data, we not only want to know the column names but we also want to know how many rows and columns are in the data. We can find out the row and column numbers by calling the shape instance variable with a dot operator."
   ]
  },
  {
   "cell_type": "code",
   "execution_count": 11,
   "metadata": {},
   "outputs": [
    {
     "data": {
      "text/plain": [
       "(111400, 24)"
      ]
     },
     "execution_count": 11,
     "metadata": {},
     "output_type": "execute_result"
    }
   ],
   "source": [
    "# shape of a dataframe (row number, column number)\n",
    "df.shape\n",
    "# We can see how many columns and rows are in the dataframe"
   ]
  },
  {
   "cell_type": "code",
   "execution_count": 12,
   "metadata": {},
   "outputs": [
    {
     "data": {
      "text/plain": [
       "PROJECT_ID                     111400\n",
       " PROJECT_TERMS                 107556\n",
       " PROJECT_TITLE                 111400\n",
       " DEPARTMENT                    111400\n",
       " AGENCY                        111400\n",
       " IC_CENTER                      91075\n",
       " PROJECT_NUMBER                111400\n",
       " PROJECT_START_DATE            100172\n",
       " PROJECT_END_DATE              100099\n",
       " CONTACT_PI_PROJECT_LEADER     111398\n",
       " OTHER_PIS                      10477\n",
       " CONGRESSIONAL_DISTRICT        104072\n",
       " DUNS_NUMBER                   110161\n",
       " ORGANIZATION_NAME             111203\n",
       " ORGANIZATION_CITY             110853\n",
       " ORGANIZATION_STATE            109933\n",
       " ORGANIZATION_ZIP              106837\n",
       " ORGANIZATION_COUNTRY          110861\n",
       " BUDGET_START_DATE              86107\n",
       " BUDGET_END_DATE                86103\n",
       " CFDA_CODE                      94902\n",
       " FY                            111400\n",
       " FY_TOTAL_COST                  90694\n",
       " FY_TOTAL_COST_SUB_PROJECTS     18474\n",
       "dtype: int64"
      ]
     },
     "execution_count": 12,
     "metadata": {},
     "output_type": "execute_result"
    }
   ],
   "source": [
    "# See the list of variables in data\n",
    "df.count()"
   ]
  },
  {
   "cell_type": "code",
   "execution_count": 13,
   "metadata": {},
   "outputs": [
    {
     "name": "stdout",
     "output_type": "stream",
     "text": [
      "['PROJECT_ID', ' PROJECT_TERMS', ' PROJECT_TITLE', ' DEPARTMENT', ' AGENCY', ' IC_CENTER', ' PROJECT_NUMBER', ' PROJECT_START_DATE', ' PROJECT_END_DATE', ' CONTACT_PI_PROJECT_LEADER', ' OTHER_PIS', ' CONGRESSIONAL_DISTRICT', ' DUNS_NUMBER', ' ORGANIZATION_NAME', ' ORGANIZATION_CITY', ' ORGANIZATION_STATE', ' ORGANIZATION_ZIP', ' ORGANIZATION_COUNTRY', ' BUDGET_START_DATE', ' BUDGET_END_DATE', ' CFDA_CODE', ' FY', ' FY_TOTAL_COST', ' FY_TOTAL_COST_SUB_PROJECTS']\n"
     ]
    }
   ],
   "source": [
    "# We can print the column names into a list\n",
    "print(list(df.columns.values))"
   ]
  },
  {
   "cell_type": "code",
   "execution_count": 14,
   "metadata": {},
   "outputs": [
    {
     "name": "stdout",
     "output_type": "stream",
     "text": [
      "['PROJECT_ID', ' PROJECT_TERMS', ' PROJECT_TITLE', ' DEPARTMENT', ' AGENCY', ' IC_CENTER', ' PROJECT_NUMBER', ' PROJECT_START_DATE', ' PROJECT_END_DATE', ' CONTACT_PI_PROJECT_LEADER', ' OTHER_PIS', ' CONGRESSIONAL_DISTRICT', ' DUNS_NUMBER', ' ORGANIZATION_NAME', ' ORGANIZATION_CITY', ' ORGANIZATION_STATE', ' ORGANIZATION_ZIP', ' ORGANIZATION_COUNTRY', ' BUDGET_START_DATE', ' BUDGET_END_DATE', ' CFDA_CODE', ' FY', ' FY_TOTAL_COST', ' FY_TOTAL_COST_SUB_PROJECTS']\n"
     ]
    }
   ],
   "source": [
    "# Or we can also save this list in an object in case we want to use it later\n",
    "colnames = list(df.columns.values)\n",
    "print(colnames)"
   ]
  },
  {
   "cell_type": "markdown",
   "metadata": {},
   "source": [
    "**Is there anything you notice here?**"
   ]
  },
  {
   "cell_type": "code",
   "execution_count": 15,
   "metadata": {},
   "outputs": [
    {
     "name": "stderr",
     "output_type": "stream",
     "text": [
      "/opt/conda/lib/python3.7/site-packages/IPython/core/interactiveshell.py:3051: DtypeWarning: Columns (12,20) have mixed types. Specify dtype option on import or set low_memory=False.\n",
      "  interactivity=interactivity, compiler=compiler, result=result)\n"
     ]
    }
   ],
   "source": [
    "df = (pd.read_csv('FedRePORTER_PRJ_C_FY2010.csv',\n",
    "                  skipinitialspace=True,encoding='utf-8'))"
   ]
  },
  {
   "cell_type": "markdown",
   "metadata": {},
   "source": [
    "If you have different file formats, such as .txt or .tsv (tab delimited) you can also use `pandas.read_csv` but you need to specify the delimiter option `delimiter='\\t'`"
   ]
  },
  {
   "cell_type": "markdown",
   "metadata": {},
   "source": [
    "**Data Types**"
   ]
  },
  {
   "cell_type": "markdown",
   "metadata": {},
   "source": [
    "Python has different types that the data is stored in, depending on what information the attribute contains."
   ]
  },
  {
   "cell_type": "markdown",
   "metadata": {},
   "source": [
    "Pandas types | usage\n",
    "---|---\n",
    "object | text\n",
    "int64 | integer numbers\n",
    "float64 | floating point numbers\n",
    "bool | true false values\n",
    "datetime64 | date time values"
   ]
  },
  {
   "cell_type": "code",
   "execution_count": 16,
   "metadata": {},
   "outputs": [
    {
     "data": {
      "text/plain": [
       "PROJECT_ID                      int64\n",
       "PROJECT_TERMS                  object\n",
       "PROJECT_TITLE                  object\n",
       "DEPARTMENT                     object\n",
       "AGENCY                         object\n",
       "IC_CENTER                      object\n",
       "PROJECT_NUMBER                 object\n",
       "PROJECT_START_DATE             object\n",
       "PROJECT_END_DATE               object\n",
       "CONTACT_PI_PROJECT_LEADER      object\n",
       "OTHER_PIS                      object\n",
       "CONGRESSIONAL_DISTRICT        float64\n",
       "DUNS_NUMBER                    object\n",
       "ORGANIZATION_NAME              object\n",
       "ORGANIZATION_CITY              object\n",
       "ORGANIZATION_STATE             object\n",
       "ORGANIZATION_ZIP               object\n",
       "ORGANIZATION_COUNTRY           object\n",
       "BUDGET_START_DATE              object\n",
       "BUDGET_END_DATE                object\n",
       "CFDA_CODE                      object\n",
       "FY                              int64\n",
       "FY_TOTAL_COST                 float64\n",
       "FY_TOTAL_COST_SUB_PROJECTS    float64\n",
       "dtype: object"
      ]
     },
     "execution_count": 16,
     "metadata": {},
     "output_type": "execute_result"
    }
   ],
   "source": [
    "# It is always good to know what type your variables are\n",
    "df.dtypes"
   ]
  },
  {
   "cell_type": "code",
   "execution_count": 17,
   "metadata": {},
   "outputs": [],
   "source": [
    "# Change our date variable to the correct type\n",
    "df['PROJECT_START_DATE'] = pd.to_datetime(df['PROJECT_START_DATE'])\n",
    "df['PROJECT_END_DATE'] = pd.to_datetime(df['PROJECT_END_DATE'])\n",
    "df['BUDGET_START_DATE'] = pd.to_datetime(df['BUDGET_START_DATE'])\n",
    "df['BUDGET_END_DATE'] = pd.to_datetime(df['BUDGET_END_DATE'])"
   ]
  },
  {
   "cell_type": "code",
   "execution_count": 18,
   "metadata": {},
   "outputs": [],
   "source": [
    "# You can also apply that function to specific variables in your data\n",
    "# To break down long statements we encolse statement in ()\n",
    "df[['PROJECT_START_DATE', 'PROJECT_END_DATE', 'BUDGET_START_DATE', 'BUDGET_START_DATE']] = (df[['PROJECT_START_DATE', \n",
    "    'PROJECT_END_DATE', 'BUDGET_START_DATE', 'BUDGET_START_DATE']].apply(pd.to_datetime))"
   ]
  },
  {
   "cell_type": "markdown",
   "metadata": {},
   "source": [
    "There are other functions than `pandas.to_datetime` that you can use to change the types of variables such as `pandas.to_string` or `pandas.to_numeric`."
   ]
  },
  {
   "cell_type": "code",
   "execution_count": 19,
   "metadata": {},
   "outputs": [],
   "source": [
    "# Practice: Are all the other variable formatted correctly? Correct the type if not.\n"
   ]
  },
  {
   "cell_type": "markdown",
   "metadata": {},
   "source": [
    "#### The head and tail of the dataframe\n",
    "It is also helpful to have a look at the first or last few rows of the data for a first impression, as well as a sanity check. We can call the head()/tail() methods. We can also specify how many lines we would like to see in the parentheses at the end. We choose to display 10. If not specified, by default the first 5 lines will be returned"
   ]
  },
  {
   "cell_type": "code",
   "execution_count": 20,
   "metadata": {},
   "outputs": [
    {
     "data": {
      "text/html": [
       "<div>\n",
       "<style scoped>\n",
       "    .dataframe tbody tr th:only-of-type {\n",
       "        vertical-align: middle;\n",
       "    }\n",
       "\n",
       "    .dataframe tbody tr th {\n",
       "        vertical-align: top;\n",
       "    }\n",
       "\n",
       "    .dataframe thead th {\n",
       "        text-align: right;\n",
       "    }\n",
       "</style>\n",
       "<table border=\"1\" class=\"dataframe\">\n",
       "  <thead>\n",
       "    <tr style=\"text-align: right;\">\n",
       "      <th></th>\n",
       "      <th>PROJECT_ID</th>\n",
       "      <th>PROJECT_TERMS</th>\n",
       "      <th>PROJECT_TITLE</th>\n",
       "      <th>DEPARTMENT</th>\n",
       "      <th>AGENCY</th>\n",
       "      <th>IC_CENTER</th>\n",
       "      <th>PROJECT_NUMBER</th>\n",
       "      <th>PROJECT_START_DATE</th>\n",
       "      <th>PROJECT_END_DATE</th>\n",
       "      <th>CONTACT_PI_PROJECT_LEADER</th>\n",
       "      <th>OTHER_PIS</th>\n",
       "      <th>CONGRESSIONAL_DISTRICT</th>\n",
       "      <th>DUNS_NUMBER</th>\n",
       "      <th>ORGANIZATION_NAME</th>\n",
       "      <th>ORGANIZATION_CITY</th>\n",
       "      <th>ORGANIZATION_STATE</th>\n",
       "      <th>ORGANIZATION_ZIP</th>\n",
       "      <th>ORGANIZATION_COUNTRY</th>\n",
       "      <th>BUDGET_START_DATE</th>\n",
       "      <th>BUDGET_END_DATE</th>\n",
       "      <th>CFDA_CODE</th>\n",
       "      <th>FY</th>\n",
       "      <th>FY_TOTAL_COST</th>\n",
       "      <th>FY_TOTAL_COST_SUB_PROJECTS</th>\n",
       "    </tr>\n",
       "  </thead>\n",
       "  <tbody>\n",
       "    <tr>\n",
       "      <th>0</th>\n",
       "      <td>121219</td>\n",
       "      <td>Alloys; Arizona; base; Research; Research Per...</td>\n",
       "      <td>THIS IS A PROPOSAL FOR GROUND-BASED RESEARCH O...</td>\n",
       "      <td>NASA</td>\n",
       "      <td>NASA</td>\n",
       "      <td>NaN</td>\n",
       "      <td>NNX10AV40G</td>\n",
       "      <td>2010-12-01</td>\n",
       "      <td>2013-11-30</td>\n",
       "      <td>POIRER, DAVID</td>\n",
       "      <td>NaN</td>\n",
       "      <td>7.0</td>\n",
       "      <td>806345617</td>\n",
       "      <td>UNIVERSITY OF ARIZONA</td>\n",
       "      <td>TUCSON</td>\n",
       "      <td>AZ</td>\n",
       "      <td>85719-4824</td>\n",
       "      <td>UNITED STATES</td>\n",
       "      <td>NaT</td>\n",
       "      <td>NaT</td>\n",
       "      <td>43.AAA</td>\n",
       "      <td>2010</td>\n",
       "      <td>449452.0</td>\n",
       "      <td>NaN</td>\n",
       "    </tr>\n",
       "    <tr>\n",
       "      <th>1</th>\n",
       "      <td>121220</td>\n",
       "      <td>Funding; Industry; operation; Participant; Re...</td>\n",
       "      <td>CONTINUED OPERATION OF THE AEROACOUSTICS RESEA...</td>\n",
       "      <td>NASA</td>\n",
       "      <td>NASA</td>\n",
       "      <td>NaN</td>\n",
       "      <td>NNC10ZA02A</td>\n",
       "      <td>2010-09-30</td>\n",
       "      <td>2011-09-29</td>\n",
       "      <td>HEYWARD, ANN O</td>\n",
       "      <td>NaN</td>\n",
       "      <td>10.0</td>\n",
       "      <td>606582542</td>\n",
       "      <td>OHIO AEROSPACE INSTITUTE</td>\n",
       "      <td>BROOK PARK</td>\n",
       "      <td>OH</td>\n",
       "      <td>44142-1012</td>\n",
       "      <td>UNITED STATES</td>\n",
       "      <td>NaT</td>\n",
       "      <td>NaT</td>\n",
       "      <td>00.000</td>\n",
       "      <td>2010</td>\n",
       "      <td>112500.0</td>\n",
       "      <td>NaN</td>\n",
       "    </tr>\n",
       "    <tr>\n",
       "      <th>2</th>\n",
       "      <td>121221</td>\n",
       "      <td>Area; Astronomy; Award; Chicago; Collaboratio...</td>\n",
       "      <td>GRAVITATIONAL-WAVE ASTRONOMY WITH BINARY COMPA...</td>\n",
       "      <td>NSF</td>\n",
       "      <td>NSF</td>\n",
       "      <td>NaN</td>\n",
       "      <td>0969820</td>\n",
       "      <td>2010-11-01</td>\n",
       "      <td>2013-10-31</td>\n",
       "      <td>KALOGERA, VASSILIKI</td>\n",
       "      <td>LUIJTEN, ERIK</td>\n",
       "      <td>9.0</td>\n",
       "      <td>160079455</td>\n",
       "      <td>NORTHWESTERN UNIVERSITY</td>\n",
       "      <td>EVANSTON</td>\n",
       "      <td>IL</td>\n",
       "      <td>60208-1110</td>\n",
       "      <td>UNITED STATES</td>\n",
       "      <td>NaT</td>\n",
       "      <td>NaT</td>\n",
       "      <td>47.049</td>\n",
       "      <td>2010</td>\n",
       "      <td>546153.0</td>\n",
       "      <td>NaN</td>\n",
       "    </tr>\n",
       "    <tr>\n",
       "      <th>3</th>\n",
       "      <td>121222</td>\n",
       "      <td>anthropogenesis; Award; base; Betula Genus; C...</td>\n",
       "      <td>INFLUENCE OF THE INDONESIAN THROUGHFLOW IN THE...</td>\n",
       "      <td>NSF</td>\n",
       "      <td>NSF</td>\n",
       "      <td>NaN</td>\n",
       "      <td>1003610</td>\n",
       "      <td>2010-10-01</td>\n",
       "      <td>2012-09-30</td>\n",
       "      <td>GUILDERSON, THOMAS P</td>\n",
       "      <td>NaN</td>\n",
       "      <td>17.0</td>\n",
       "      <td>125084723</td>\n",
       "      <td>UNIVERSITY OF CALIFORNIA SANTA CRUZ</td>\n",
       "      <td>SANTA CRUZ</td>\n",
       "      <td>CA</td>\n",
       "      <td>95064-4107</td>\n",
       "      <td>UNITED STATES</td>\n",
       "      <td>NaT</td>\n",
       "      <td>NaT</td>\n",
       "      <td>47.050</td>\n",
       "      <td>2010</td>\n",
       "      <td>78594.0</td>\n",
       "      <td>NaN</td>\n",
       "    </tr>\n",
       "    <tr>\n",
       "      <th>4</th>\n",
       "      <td>121223</td>\n",
       "      <td>Academia; Address; Area; Award; California; C...</td>\n",
       "      <td>US-MEXICO WORKSHOP ON INTERACTIVE AND UBIQUITO...</td>\n",
       "      <td>NSF</td>\n",
       "      <td>NSF</td>\n",
       "      <td>NaN</td>\n",
       "      <td>1042937</td>\n",
       "      <td>2010-11-01</td>\n",
       "      <td>2011-10-31</td>\n",
       "      <td>HAYES, GILLIAN</td>\n",
       "      <td>TENTORI, MONICA</td>\n",
       "      <td>48.0</td>\n",
       "      <td>046705849</td>\n",
       "      <td>UNIVERSITY OF CALIFORNIA IRVINE</td>\n",
       "      <td>IRVINE</td>\n",
       "      <td>CA</td>\n",
       "      <td>92697-7600</td>\n",
       "      <td>UNITED STATES</td>\n",
       "      <td>NaT</td>\n",
       "      <td>NaT</td>\n",
       "      <td>47.079</td>\n",
       "      <td>2010</td>\n",
       "      <td>16883.0</td>\n",
       "      <td>NaN</td>\n",
       "    </tr>\n",
       "  </tbody>\n",
       "</table>\n",
       "</div>"
      ],
      "text/plain": [
       "   PROJECT_ID                                      PROJECT_TERMS  \\\n",
       "0      121219   Alloys; Arizona; base; Research; Research Per...   \n",
       "1      121220   Funding; Industry; operation; Participant; Re...   \n",
       "2      121221   Area; Astronomy; Award; Chicago; Collaboratio...   \n",
       "3      121222   anthropogenesis; Award; base; Betula Genus; C...   \n",
       "4      121223   Academia; Address; Area; Award; California; C...   \n",
       "\n",
       "                                       PROJECT_TITLE DEPARTMENT AGENCY  \\\n",
       "0  THIS IS A PROPOSAL FOR GROUND-BASED RESEARCH O...       NASA   NASA   \n",
       "1  CONTINUED OPERATION OF THE AEROACOUSTICS RESEA...       NASA   NASA   \n",
       "2  GRAVITATIONAL-WAVE ASTRONOMY WITH BINARY COMPA...        NSF    NSF   \n",
       "3  INFLUENCE OF THE INDONESIAN THROUGHFLOW IN THE...        NSF    NSF   \n",
       "4  US-MEXICO WORKSHOP ON INTERACTIVE AND UBIQUITO...        NSF    NSF   \n",
       "\n",
       "  IC_CENTER PROJECT_NUMBER PROJECT_START_DATE PROJECT_END_DATE  \\\n",
       "0       NaN     NNX10AV40G         2010-12-01       2013-11-30   \n",
       "1       NaN     NNC10ZA02A         2010-09-30       2011-09-29   \n",
       "2       NaN        0969820         2010-11-01       2013-10-31   \n",
       "3       NaN        1003610         2010-10-01       2012-09-30   \n",
       "4       NaN        1042937         2010-11-01       2011-10-31   \n",
       "\n",
       "  CONTACT_PI_PROJECT_LEADER        OTHER_PIS  CONGRESSIONAL_DISTRICT  \\\n",
       "0             POIRER, DAVID              NaN                     7.0   \n",
       "1            HEYWARD, ANN O              NaN                    10.0   \n",
       "2       KALOGERA, VASSILIKI    LUIJTEN, ERIK                     9.0   \n",
       "3      GUILDERSON, THOMAS P              NaN                    17.0   \n",
       "4            HAYES, GILLIAN  TENTORI, MONICA                    48.0   \n",
       "\n",
       "  DUNS_NUMBER                    ORGANIZATION_NAME ORGANIZATION_CITY  \\\n",
       "0   806345617                UNIVERSITY OF ARIZONA            TUCSON   \n",
       "1   606582542             OHIO AEROSPACE INSTITUTE        BROOK PARK   \n",
       "2   160079455              NORTHWESTERN UNIVERSITY          EVANSTON   \n",
       "3   125084723  UNIVERSITY OF CALIFORNIA SANTA CRUZ        SANTA CRUZ   \n",
       "4   046705849      UNIVERSITY OF CALIFORNIA IRVINE            IRVINE   \n",
       "\n",
       "  ORGANIZATION_STATE ORGANIZATION_ZIP ORGANIZATION_COUNTRY BUDGET_START_DATE  \\\n",
       "0                 AZ       85719-4824        UNITED STATES               NaT   \n",
       "1                 OH       44142-1012        UNITED STATES               NaT   \n",
       "2                 IL       60208-1110        UNITED STATES               NaT   \n",
       "3                 CA       95064-4107        UNITED STATES               NaT   \n",
       "4                 CA       92697-7600        UNITED STATES               NaT   \n",
       "\n",
       "  BUDGET_END_DATE CFDA_CODE    FY  FY_TOTAL_COST  FY_TOTAL_COST_SUB_PROJECTS  \n",
       "0             NaT    43.AAA  2010       449452.0                         NaN  \n",
       "1             NaT    00.000  2010       112500.0                         NaN  \n",
       "2             NaT    47.049  2010       546153.0                         NaN  \n",
       "3             NaT    47.050  2010        78594.0                         NaN  \n",
       "4             NaT    47.079  2010        16883.0                         NaN  "
      ]
     },
     "execution_count": 20,
     "metadata": {},
     "output_type": "execute_result"
    }
   ],
   "source": [
    "# Display the first few rows of the dataframe\n",
    "df.head()"
   ]
  },
  {
   "cell_type": "code",
   "execution_count": 21,
   "metadata": {},
   "outputs": [
    {
     "data": {
      "text/html": [
       "<div>\n",
       "<style scoped>\n",
       "    .dataframe tbody tr th:only-of-type {\n",
       "        vertical-align: middle;\n",
       "    }\n",
       "\n",
       "    .dataframe tbody tr th {\n",
       "        vertical-align: top;\n",
       "    }\n",
       "\n",
       "    .dataframe thead th {\n",
       "        text-align: right;\n",
       "    }\n",
       "</style>\n",
       "<table border=\"1\" class=\"dataframe\">\n",
       "  <thead>\n",
       "    <tr style=\"text-align: right;\">\n",
       "      <th></th>\n",
       "      <th>PROJECT_ID</th>\n",
       "      <th>PROJECT_TERMS</th>\n",
       "      <th>PROJECT_TITLE</th>\n",
       "      <th>DEPARTMENT</th>\n",
       "      <th>AGENCY</th>\n",
       "      <th>IC_CENTER</th>\n",
       "      <th>PROJECT_NUMBER</th>\n",
       "      <th>PROJECT_START_DATE</th>\n",
       "      <th>PROJECT_END_DATE</th>\n",
       "      <th>CONTACT_PI_PROJECT_LEADER</th>\n",
       "      <th>OTHER_PIS</th>\n",
       "      <th>CONGRESSIONAL_DISTRICT</th>\n",
       "      <th>DUNS_NUMBER</th>\n",
       "      <th>ORGANIZATION_NAME</th>\n",
       "      <th>ORGANIZATION_CITY</th>\n",
       "      <th>ORGANIZATION_STATE</th>\n",
       "      <th>ORGANIZATION_ZIP</th>\n",
       "      <th>ORGANIZATION_COUNTRY</th>\n",
       "      <th>BUDGET_START_DATE</th>\n",
       "      <th>BUDGET_END_DATE</th>\n",
       "      <th>CFDA_CODE</th>\n",
       "      <th>FY</th>\n",
       "      <th>FY_TOTAL_COST</th>\n",
       "      <th>FY_TOTAL_COST_SUB_PROJECTS</th>\n",
       "    </tr>\n",
       "  </thead>\n",
       "  <tbody>\n",
       "    <tr>\n",
       "      <th>111390</th>\n",
       "      <td>915346</td>\n",
       "      <td>Characteristics; combat; Environment; Inciden...</td>\n",
       "      <td>INCIDENCE AND CHARACTERISTICS OF POST TRAUMATI...</td>\n",
       "      <td>DOD</td>\n",
       "      <td>DVBIC</td>\n",
       "      <td>NaN</td>\n",
       "      <td>DV76</td>\n",
       "      <td>2005-05-06</td>\n",
       "      <td>2012-03-01</td>\n",
       "      <td>KENNEDY, JAN E</td>\n",
       "      <td>NaN</td>\n",
       "      <td>NaN</td>\n",
       "      <td>NaN</td>\n",
       "      <td>DEFENSE AND VETERANS BRAIN INJURY CENTER</td>\n",
       "      <td>SILVER SPRING</td>\n",
       "      <td>MD</td>\n",
       "      <td>20910</td>\n",
       "      <td>UNITED STATES</td>\n",
       "      <td>NaT</td>\n",
       "      <td>NaT</td>\n",
       "      <td>NaN</td>\n",
       "      <td>2010</td>\n",
       "      <td>NaN</td>\n",
       "      <td>NaN</td>\n",
       "    </tr>\n",
       "    <tr>\n",
       "      <th>111391</th>\n",
       "      <td>915354</td>\n",
       "      <td>Assessment tool; Health; operation; Predictiv...</td>\n",
       "      <td>WARRIOR ADMINISTERED  RETROSPECTIVE CASUALTY A...</td>\n",
       "      <td>DOD</td>\n",
       "      <td>DVBIC</td>\n",
       "      <td>NaN</td>\n",
       "      <td>DV78</td>\n",
       "      <td>2008-03-01</td>\n",
       "      <td>2012-01-01</td>\n",
       "      <td>TERRIO, HEIDI</td>\n",
       "      <td>NaN</td>\n",
       "      <td>NaN</td>\n",
       "      <td>NaN</td>\n",
       "      <td>DEFENSE AND VETERANS BRAIN INJURY CENTER</td>\n",
       "      <td>SILVER SPRING</td>\n",
       "      <td>MD</td>\n",
       "      <td>20910</td>\n",
       "      <td>UNITED STATES</td>\n",
       "      <td>NaT</td>\n",
       "      <td>NaT</td>\n",
       "      <td>NaN</td>\n",
       "      <td>2010</td>\n",
       "      <td>NaN</td>\n",
       "      <td>NaN</td>\n",
       "    </tr>\n",
       "    <tr>\n",
       "      <th>111392</th>\n",
       "      <td>915358</td>\n",
       "      <td>Assessment tool; base; Clinical; Diagnosis; h...</td>\n",
       "      <td>A PROVIDER VALIDATED TRAUMATIC BRAIN INJURY (T...</td>\n",
       "      <td>DOD</td>\n",
       "      <td>DVBIC</td>\n",
       "      <td>NaN</td>\n",
       "      <td>DV79</td>\n",
       "      <td>2009-02-23</td>\n",
       "      <td>2012-01-01</td>\n",
       "      <td>TERRIO, HEIDI</td>\n",
       "      <td>NaN</td>\n",
       "      <td>NaN</td>\n",
       "      <td>NaN</td>\n",
       "      <td>DEFENSE AND VETERANS BRAIN INJURY CENTER</td>\n",
       "      <td>SILVER SPRING</td>\n",
       "      <td>MD</td>\n",
       "      <td>20910</td>\n",
       "      <td>UNITED STATES</td>\n",
       "      <td>NaT</td>\n",
       "      <td>NaT</td>\n",
       "      <td>NaN</td>\n",
       "      <td>2010</td>\n",
       "      <td>NaN</td>\n",
       "      <td>NaN</td>\n",
       "    </tr>\n",
       "    <tr>\n",
       "      <th>111393</th>\n",
       "      <td>915361</td>\n",
       "      <td>Behavioral Symptoms; Cognitive; combat; compa...</td>\n",
       "      <td>HYPERBARIC OXYGEN THERAPY FOR POST-CONCUSSIVE ...</td>\n",
       "      <td>DOD</td>\n",
       "      <td>DVBIC</td>\n",
       "      <td>NaN</td>\n",
       "      <td>DV80</td>\n",
       "      <td>2010-02-17</td>\n",
       "      <td>2013-01-01</td>\n",
       "      <td>CIFU, DAVID</td>\n",
       "      <td>NaN</td>\n",
       "      <td>NaN</td>\n",
       "      <td>NaN</td>\n",
       "      <td>DEFENSE AND VETERANS BRAIN INJURY CENTER</td>\n",
       "      <td>SILVER SPRING</td>\n",
       "      <td>MD</td>\n",
       "      <td>20910</td>\n",
       "      <td>UNITED STATES</td>\n",
       "      <td>NaT</td>\n",
       "      <td>NaT</td>\n",
       "      <td>NaN</td>\n",
       "      <td>2010</td>\n",
       "      <td>NaN</td>\n",
       "      <td>NaN</td>\n",
       "    </tr>\n",
       "    <tr>\n",
       "      <th>111394</th>\n",
       "      <td>915365</td>\n",
       "      <td>Cognitive; Emotional; Learning; Measures; Mem...</td>\n",
       "      <td>CHARACTERIZATION OF THE NEUROPSYCHOLOGICAL AND...</td>\n",
       "      <td>DOD</td>\n",
       "      <td>DVBIC</td>\n",
       "      <td>NaN</td>\n",
       "      <td>DV81</td>\n",
       "      <td>2010-01-01</td>\n",
       "      <td>2012-01-01</td>\n",
       "      <td>MCGLYNN, SUSAN</td>\n",
       "      <td>NaN</td>\n",
       "      <td>NaN</td>\n",
       "      <td>NaN</td>\n",
       "      <td>DEFENSE AND VETERANS BRAIN INJURY CENTER</td>\n",
       "      <td>SILVER SPRING</td>\n",
       "      <td>MD</td>\n",
       "      <td>20910</td>\n",
       "      <td>UNITED STATES</td>\n",
       "      <td>NaT</td>\n",
       "      <td>NaT</td>\n",
       "      <td>NaN</td>\n",
       "      <td>2010</td>\n",
       "      <td>NaN</td>\n",
       "      <td>NaN</td>\n",
       "    </tr>\n",
       "    <tr>\n",
       "      <th>111395</th>\n",
       "      <td>915368</td>\n",
       "      <td>Clinical; Demographic Factors; Employment Sta...</td>\n",
       "      <td>FACTORS PREDICTING EMPLOYMENT STATUS IN THE PO...</td>\n",
       "      <td>DOD</td>\n",
       "      <td>DVBIC</td>\n",
       "      <td>NaN</td>\n",
       "      <td>DV82</td>\n",
       "      <td>2010-01-01</td>\n",
       "      <td>2012-01-01</td>\n",
       "      <td>YAN, KUN</td>\n",
       "      <td>NaN</td>\n",
       "      <td>NaN</td>\n",
       "      <td>NaN</td>\n",
       "      <td>DEFENSE AND VETERANS BRAIN INJURY CENTER</td>\n",
       "      <td>SILVER SPRING</td>\n",
       "      <td>MD</td>\n",
       "      <td>20910</td>\n",
       "      <td>UNITED STATES</td>\n",
       "      <td>NaT</td>\n",
       "      <td>NaT</td>\n",
       "      <td>NaN</td>\n",
       "      <td>2010</td>\n",
       "      <td>NaN</td>\n",
       "      <td>NaN</td>\n",
       "    </tr>\n",
       "    <tr>\n",
       "      <th>111396</th>\n",
       "      <td>915372</td>\n",
       "      <td>Automobile Driving; Characteristics; Diagnosi...</td>\n",
       "      <td>PREVALENCE OF DRIVING DIFFICULTIES IN RETURNIN...</td>\n",
       "      <td>DOD</td>\n",
       "      <td>DVBIC</td>\n",
       "      <td>NaN</td>\n",
       "      <td>DV83</td>\n",
       "      <td>2009-01-01</td>\n",
       "      <td>2011-01-01</td>\n",
       "      <td>AMICK, MELISSA</td>\n",
       "      <td>NaN</td>\n",
       "      <td>NaN</td>\n",
       "      <td>NaN</td>\n",
       "      <td>DEFENSE AND VETERANS BRAIN INJURY CENTER</td>\n",
       "      <td>SILVER SPRING</td>\n",
       "      <td>MD</td>\n",
       "      <td>20910</td>\n",
       "      <td>UNITED STATES</td>\n",
       "      <td>NaT</td>\n",
       "      <td>NaT</td>\n",
       "      <td>NaN</td>\n",
       "      <td>2010</td>\n",
       "      <td>NaN</td>\n",
       "      <td>NaN</td>\n",
       "    </tr>\n",
       "    <tr>\n",
       "      <th>111397</th>\n",
       "      <td>915375</td>\n",
       "      <td>Affective; Biological; Center for Translation...</td>\n",
       "      <td>TRANSLATIONAL RESEARCH CENTER FOR TBI AND STRE...</td>\n",
       "      <td>DOD</td>\n",
       "      <td>DVBIC</td>\n",
       "      <td>NaN</td>\n",
       "      <td>DV84</td>\n",
       "      <td>2009-01-01</td>\n",
       "      <td>2014-01-01</td>\n",
       "      <td>MCGLINCHEY, REGINA</td>\n",
       "      <td>NaN</td>\n",
       "      <td>NaN</td>\n",
       "      <td>NaN</td>\n",
       "      <td>DEFENSE AND VETERANS BRAIN INJURY CENTER</td>\n",
       "      <td>SILVER SPRING</td>\n",
       "      <td>MD</td>\n",
       "      <td>20910</td>\n",
       "      <td>UNITED STATES</td>\n",
       "      <td>NaT</td>\n",
       "      <td>NaT</td>\n",
       "      <td>NaN</td>\n",
       "      <td>2010</td>\n",
       "      <td>NaN</td>\n",
       "      <td>NaN</td>\n",
       "    </tr>\n",
       "    <tr>\n",
       "      <th>111398</th>\n",
       "      <td>915380</td>\n",
       "      <td>Attention; Blast Cell; executive function; mi...</td>\n",
       "      <td>FUNCTIONAL NEUROIMAGING OF ATTENTION AND EXECU...</td>\n",
       "      <td>DOD</td>\n",
       "      <td>DVBIC</td>\n",
       "      <td>NaN</td>\n",
       "      <td>DV85</td>\n",
       "      <td>2009-10-25</td>\n",
       "      <td>2013-01-01</td>\n",
       "      <td>CHAO, WENDY</td>\n",
       "      <td>NaN</td>\n",
       "      <td>NaN</td>\n",
       "      <td>NaN</td>\n",
       "      <td>DEFENSE AND VETERANS BRAIN INJURY CENTER</td>\n",
       "      <td>SILVER SPRING</td>\n",
       "      <td>MD</td>\n",
       "      <td>20910</td>\n",
       "      <td>UNITED STATES</td>\n",
       "      <td>NaT</td>\n",
       "      <td>NaT</td>\n",
       "      <td>NaN</td>\n",
       "      <td>2010</td>\n",
       "      <td>NaN</td>\n",
       "      <td>NaN</td>\n",
       "    </tr>\n",
       "    <tr>\n",
       "      <th>111399</th>\n",
       "      <td>915386</td>\n",
       "      <td>Automobile Driving; Behavioral Symptoms; Cogn...</td>\n",
       "      <td>USING A SIMULATOR TO ENHANCE COGNITIVE RECOVER...</td>\n",
       "      <td>DOD</td>\n",
       "      <td>DVBIC</td>\n",
       "      <td>NaN</td>\n",
       "      <td>DV86</td>\n",
       "      <td>2007-10-01</td>\n",
       "      <td>2011-03-31</td>\n",
       "      <td>AMICK, MELISSA</td>\n",
       "      <td>NaN</td>\n",
       "      <td>NaN</td>\n",
       "      <td>NaN</td>\n",
       "      <td>DEFENSE AND VETERANS BRAIN INJURY CENTER</td>\n",
       "      <td>SILVER SPRING</td>\n",
       "      <td>MD</td>\n",
       "      <td>20910</td>\n",
       "      <td>UNITED STATES</td>\n",
       "      <td>NaT</td>\n",
       "      <td>NaT</td>\n",
       "      <td>NaN</td>\n",
       "      <td>2010</td>\n",
       "      <td>NaN</td>\n",
       "      <td>NaN</td>\n",
       "    </tr>\n",
       "  </tbody>\n",
       "</table>\n",
       "</div>"
      ],
      "text/plain": [
       "        PROJECT_ID                                      PROJECT_TERMS  \\\n",
       "111390      915346   Characteristics; combat; Environment; Inciden...   \n",
       "111391      915354   Assessment tool; Health; operation; Predictiv...   \n",
       "111392      915358   Assessment tool; base; Clinical; Diagnosis; h...   \n",
       "111393      915361   Behavioral Symptoms; Cognitive; combat; compa...   \n",
       "111394      915365   Cognitive; Emotional; Learning; Measures; Mem...   \n",
       "111395      915368   Clinical; Demographic Factors; Employment Sta...   \n",
       "111396      915372   Automobile Driving; Characteristics; Diagnosi...   \n",
       "111397      915375   Affective; Biological; Center for Translation...   \n",
       "111398      915380   Attention; Blast Cell; executive function; mi...   \n",
       "111399      915386   Automobile Driving; Behavioral Symptoms; Cogn...   \n",
       "\n",
       "                                            PROJECT_TITLE DEPARTMENT AGENCY  \\\n",
       "111390  INCIDENCE AND CHARACTERISTICS OF POST TRAUMATI...        DOD  DVBIC   \n",
       "111391  WARRIOR ADMINISTERED  RETROSPECTIVE CASUALTY A...        DOD  DVBIC   \n",
       "111392  A PROVIDER VALIDATED TRAUMATIC BRAIN INJURY (T...        DOD  DVBIC   \n",
       "111393  HYPERBARIC OXYGEN THERAPY FOR POST-CONCUSSIVE ...        DOD  DVBIC   \n",
       "111394  CHARACTERIZATION OF THE NEUROPSYCHOLOGICAL AND...        DOD  DVBIC   \n",
       "111395  FACTORS PREDICTING EMPLOYMENT STATUS IN THE PO...        DOD  DVBIC   \n",
       "111396  PREVALENCE OF DRIVING DIFFICULTIES IN RETURNIN...        DOD  DVBIC   \n",
       "111397  TRANSLATIONAL RESEARCH CENTER FOR TBI AND STRE...        DOD  DVBIC   \n",
       "111398  FUNCTIONAL NEUROIMAGING OF ATTENTION AND EXECU...        DOD  DVBIC   \n",
       "111399  USING A SIMULATOR TO ENHANCE COGNITIVE RECOVER...        DOD  DVBIC   \n",
       "\n",
       "       IC_CENTER PROJECT_NUMBER PROJECT_START_DATE PROJECT_END_DATE  \\\n",
       "111390       NaN           DV76         2005-05-06       2012-03-01   \n",
       "111391       NaN           DV78         2008-03-01       2012-01-01   \n",
       "111392       NaN           DV79         2009-02-23       2012-01-01   \n",
       "111393       NaN           DV80         2010-02-17       2013-01-01   \n",
       "111394       NaN           DV81         2010-01-01       2012-01-01   \n",
       "111395       NaN           DV82         2010-01-01       2012-01-01   \n",
       "111396       NaN           DV83         2009-01-01       2011-01-01   \n",
       "111397       NaN           DV84         2009-01-01       2014-01-01   \n",
       "111398       NaN           DV85         2009-10-25       2013-01-01   \n",
       "111399       NaN           DV86         2007-10-01       2011-03-31   \n",
       "\n",
       "       CONTACT_PI_PROJECT_LEADER OTHER_PIS  CONGRESSIONAL_DISTRICT  \\\n",
       "111390            KENNEDY, JAN E       NaN                     NaN   \n",
       "111391             TERRIO, HEIDI       NaN                     NaN   \n",
       "111392             TERRIO, HEIDI       NaN                     NaN   \n",
       "111393               CIFU, DAVID       NaN                     NaN   \n",
       "111394            MCGLYNN, SUSAN       NaN                     NaN   \n",
       "111395                  YAN, KUN       NaN                     NaN   \n",
       "111396            AMICK, MELISSA       NaN                     NaN   \n",
       "111397        MCGLINCHEY, REGINA       NaN                     NaN   \n",
       "111398               CHAO, WENDY       NaN                     NaN   \n",
       "111399            AMICK, MELISSA       NaN                     NaN   \n",
       "\n",
       "       DUNS_NUMBER                         ORGANIZATION_NAME  \\\n",
       "111390         NaN  DEFENSE AND VETERANS BRAIN INJURY CENTER   \n",
       "111391         NaN  DEFENSE AND VETERANS BRAIN INJURY CENTER   \n",
       "111392         NaN  DEFENSE AND VETERANS BRAIN INJURY CENTER   \n",
       "111393         NaN  DEFENSE AND VETERANS BRAIN INJURY CENTER   \n",
       "111394         NaN  DEFENSE AND VETERANS BRAIN INJURY CENTER   \n",
       "111395         NaN  DEFENSE AND VETERANS BRAIN INJURY CENTER   \n",
       "111396         NaN  DEFENSE AND VETERANS BRAIN INJURY CENTER   \n",
       "111397         NaN  DEFENSE AND VETERANS BRAIN INJURY CENTER   \n",
       "111398         NaN  DEFENSE AND VETERANS BRAIN INJURY CENTER   \n",
       "111399         NaN  DEFENSE AND VETERANS BRAIN INJURY CENTER   \n",
       "\n",
       "       ORGANIZATION_CITY ORGANIZATION_STATE ORGANIZATION_ZIP  \\\n",
       "111390     SILVER SPRING                 MD            20910   \n",
       "111391     SILVER SPRING                 MD            20910   \n",
       "111392     SILVER SPRING                 MD            20910   \n",
       "111393     SILVER SPRING                 MD            20910   \n",
       "111394     SILVER SPRING                 MD            20910   \n",
       "111395     SILVER SPRING                 MD            20910   \n",
       "111396     SILVER SPRING                 MD            20910   \n",
       "111397     SILVER SPRING                 MD            20910   \n",
       "111398     SILVER SPRING                 MD            20910   \n",
       "111399     SILVER SPRING                 MD            20910   \n",
       "\n",
       "       ORGANIZATION_COUNTRY BUDGET_START_DATE BUDGET_END_DATE CFDA_CODE    FY  \\\n",
       "111390        UNITED STATES               NaT             NaT       NaN  2010   \n",
       "111391        UNITED STATES               NaT             NaT       NaN  2010   \n",
       "111392        UNITED STATES               NaT             NaT       NaN  2010   \n",
       "111393        UNITED STATES               NaT             NaT       NaN  2010   \n",
       "111394        UNITED STATES               NaT             NaT       NaN  2010   \n",
       "111395        UNITED STATES               NaT             NaT       NaN  2010   \n",
       "111396        UNITED STATES               NaT             NaT       NaN  2010   \n",
       "111397        UNITED STATES               NaT             NaT       NaN  2010   \n",
       "111398        UNITED STATES               NaT             NaT       NaN  2010   \n",
       "111399        UNITED STATES               NaT             NaT       NaN  2010   \n",
       "\n",
       "        FY_TOTAL_COST  FY_TOTAL_COST_SUB_PROJECTS  \n",
       "111390            NaN                         NaN  \n",
       "111391            NaN                         NaN  \n",
       "111392            NaN                         NaN  \n",
       "111393            NaN                         NaN  \n",
       "111394            NaN                         NaN  \n",
       "111395            NaN                         NaN  \n",
       "111396            NaN                         NaN  \n",
       "111397            NaN                         NaN  \n",
       "111398            NaN                         NaN  \n",
       "111399            NaN                         NaN  "
      ]
     },
     "execution_count": 21,
     "metadata": {},
     "output_type": "execute_result"
    }
   ],
   "source": [
    "# last few rows of the dataframe\n",
    "# the syntax is similar to head\n",
    "df.tail(10)"
   ]
  },
  {
   "cell_type": "code",
   "execution_count": 22,
   "metadata": {},
   "outputs": [
    {
     "data": {
      "text/html": [
       "<div>\n",
       "<style scoped>\n",
       "    .dataframe tbody tr th:only-of-type {\n",
       "        vertical-align: middle;\n",
       "    }\n",
       "\n",
       "    .dataframe tbody tr th {\n",
       "        vertical-align: top;\n",
       "    }\n",
       "\n",
       "    .dataframe thead th {\n",
       "        text-align: right;\n",
       "    }\n",
       "</style>\n",
       "<table border=\"1\" class=\"dataframe\">\n",
       "  <thead>\n",
       "    <tr style=\"text-align: right;\">\n",
       "      <th></th>\n",
       "      <th>PROJECT_ID</th>\n",
       "      <th>DEPARTMENT</th>\n",
       "      <th>ORGANIZATION_NAME</th>\n",
       "      <th>PROJECT_START_DATE</th>\n",
       "      <th>FY_TOTAL_COST</th>\n",
       "    </tr>\n",
       "  </thead>\n",
       "  <tbody>\n",
       "    <tr>\n",
       "      <th>111399</th>\n",
       "      <td>915386</td>\n",
       "      <td>DOD</td>\n",
       "      <td>DEFENSE AND VETERANS BRAIN INJURY CENTER</td>\n",
       "      <td>2007-10-01</td>\n",
       "      <td>NaN</td>\n",
       "    </tr>\n",
       "    <tr>\n",
       "      <th>111396</th>\n",
       "      <td>915372</td>\n",
       "      <td>DOD</td>\n",
       "      <td>DEFENSE AND VETERANS BRAIN INJURY CENTER</td>\n",
       "      <td>2009-01-01</td>\n",
       "      <td>NaN</td>\n",
       "    </tr>\n",
       "    <tr>\n",
       "      <th>111397</th>\n",
       "      <td>915375</td>\n",
       "      <td>DOD</td>\n",
       "      <td>DEFENSE AND VETERANS BRAIN INJURY CENTER</td>\n",
       "      <td>2009-01-01</td>\n",
       "      <td>NaN</td>\n",
       "    </tr>\n",
       "    <tr>\n",
       "      <th>111398</th>\n",
       "      <td>915380</td>\n",
       "      <td>DOD</td>\n",
       "      <td>DEFENSE AND VETERANS BRAIN INJURY CENTER</td>\n",
       "      <td>2009-10-25</td>\n",
       "      <td>NaN</td>\n",
       "    </tr>\n",
       "    <tr>\n",
       "      <th>111395</th>\n",
       "      <td>915368</td>\n",
       "      <td>DOD</td>\n",
       "      <td>DEFENSE AND VETERANS BRAIN INJURY CENTER</td>\n",
       "      <td>2010-01-01</td>\n",
       "      <td>NaN</td>\n",
       "    </tr>\n",
       "  </tbody>\n",
       "</table>\n",
       "</div>"
      ],
      "text/plain": [
       "        PROJECT_ID DEPARTMENT                         ORGANIZATION_NAME  \\\n",
       "111399      915386        DOD  DEFENSE AND VETERANS BRAIN INJURY CENTER   \n",
       "111396      915372        DOD  DEFENSE AND VETERANS BRAIN INJURY CENTER   \n",
       "111397      915375        DOD  DEFENSE AND VETERANS BRAIN INJURY CENTER   \n",
       "111398      915380        DOD  DEFENSE AND VETERANS BRAIN INJURY CENTER   \n",
       "111395      915368        DOD  DEFENSE AND VETERANS BRAIN INJURY CENTER   \n",
       "\n",
       "       PROJECT_START_DATE  FY_TOTAL_COST  \n",
       "111399         2007-10-01            NaN  \n",
       "111396         2009-01-01            NaN  \n",
       "111397         2009-01-01            NaN  \n",
       "111398         2009-10-25            NaN  \n",
       "111395         2010-01-01            NaN  "
      ]
     },
     "execution_count": 22,
     "metadata": {},
     "output_type": "execute_result"
    }
   ],
   "source": [
    "# We can sort the values (by one or multiple variables)\n",
    "(df[['PROJECT_ID', 'DEPARTMENT','ORGANIZATION_NAME','PROJECT_START_DATE', \n",
    "     'FY_TOTAL_COST']].tail().sort_values(['PROJECT_START_DATE','PROJECT_ID'], ascending=[True, True]))"
   ]
  },
  {
   "cell_type": "markdown",
   "metadata": {},
   "source": [
    "### Columns, rows, data selection"
   ]
  },
  {
   "cell_type": "markdown",
   "metadata": {},
   "source": [
    "#### Single column selection\n",
    "If we want to select a specific column, we can use the following syntax:"
   ]
  },
  {
   "cell_type": "code",
   "execution_count": 23,
   "metadata": {
    "scrolled": true
   },
   "outputs": [
    {
     "data": {
      "text/plain": [
       "0    NASA\n",
       "1    NASA\n",
       "2     NSF\n",
       "3     NSF\n",
       "4     NSF\n",
       "Name: AGENCY, dtype: object"
      ]
     },
     "execution_count": 23,
     "metadata": {},
     "output_type": "execute_result"
    }
   ],
   "source": [
    "# select a single column: the dataframe variable name, followed by square brackets, and then put the\n",
    "# the column name between quotes (either single or double). \n",
    "df['AGENCY'].head()"
   ]
  },
  {
   "cell_type": "code",
   "execution_count": 24,
   "metadata": {},
   "outputs": [
    {
     "data": {
      "text/plain": [
       "0    NASA\n",
       "1    NASA\n",
       "2     NSF\n",
       "3     NSF\n",
       "4     NSF\n",
       "Name: AGENCY, dtype: object"
      ]
     },
     "execution_count": 24,
     "metadata": {},
     "output_type": "execute_result"
    }
   ],
   "source": [
    "# the same would be\n",
    "df.AGENCY.head()"
   ]
  },
  {
   "cell_type": "code",
   "execution_count": 25,
   "metadata": {},
   "outputs": [
    {
     "data": {
      "text/html": [
       "<div>\n",
       "<style scoped>\n",
       "    .dataframe tbody tr th:only-of-type {\n",
       "        vertical-align: middle;\n",
       "    }\n",
       "\n",
       "    .dataframe tbody tr th {\n",
       "        vertical-align: top;\n",
       "    }\n",
       "\n",
       "    .dataframe thead th {\n",
       "        text-align: right;\n",
       "    }\n",
       "</style>\n",
       "<table border=\"1\" class=\"dataframe\">\n",
       "  <thead>\n",
       "    <tr style=\"text-align: right;\">\n",
       "      <th></th>\n",
       "      <th>project_id</th>\n",
       "      <th>project_terms</th>\n",
       "      <th>project_title</th>\n",
       "      <th>department</th>\n",
       "      <th>agency</th>\n",
       "      <th>ic_center</th>\n",
       "      <th>project_number</th>\n",
       "      <th>project_start_date</th>\n",
       "      <th>project_end_date</th>\n",
       "      <th>contact_pi_project_leader</th>\n",
       "      <th>other_pis</th>\n",
       "      <th>congressional_district</th>\n",
       "      <th>duns_number</th>\n",
       "      <th>organization_name</th>\n",
       "      <th>organization_city</th>\n",
       "      <th>organization_state</th>\n",
       "      <th>organization_zip</th>\n",
       "      <th>organization_country</th>\n",
       "      <th>budget_start_date</th>\n",
       "      <th>budget_end_date</th>\n",
       "      <th>cfda_code</th>\n",
       "      <th>fy</th>\n",
       "      <th>fy_total_cost</th>\n",
       "      <th>fy_total_cost_sub_projects</th>\n",
       "    </tr>\n",
       "  </thead>\n",
       "  <tbody>\n",
       "    <tr>\n",
       "      <th>0</th>\n",
       "      <td>121219</td>\n",
       "      <td>Alloys; Arizona; base; Research; Research Per...</td>\n",
       "      <td>THIS IS A PROPOSAL FOR GROUND-BASED RESEARCH O...</td>\n",
       "      <td>NASA</td>\n",
       "      <td>NASA</td>\n",
       "      <td>NaN</td>\n",
       "      <td>NNX10AV40G</td>\n",
       "      <td>2010-12-01</td>\n",
       "      <td>2013-11-30</td>\n",
       "      <td>POIRER, DAVID</td>\n",
       "      <td>NaN</td>\n",
       "      <td>7.0</td>\n",
       "      <td>806345617</td>\n",
       "      <td>UNIVERSITY OF ARIZONA</td>\n",
       "      <td>TUCSON</td>\n",
       "      <td>AZ</td>\n",
       "      <td>85719-4824</td>\n",
       "      <td>UNITED STATES</td>\n",
       "      <td>NaT</td>\n",
       "      <td>NaT</td>\n",
       "      <td>43.AAA</td>\n",
       "      <td>2010</td>\n",
       "      <td>449452.0</td>\n",
       "      <td>NaN</td>\n",
       "    </tr>\n",
       "    <tr>\n",
       "      <th>1</th>\n",
       "      <td>121220</td>\n",
       "      <td>Funding; Industry; operation; Participant; Re...</td>\n",
       "      <td>CONTINUED OPERATION OF THE AEROACOUSTICS RESEA...</td>\n",
       "      <td>NASA</td>\n",
       "      <td>NASA</td>\n",
       "      <td>NaN</td>\n",
       "      <td>NNC10ZA02A</td>\n",
       "      <td>2010-09-30</td>\n",
       "      <td>2011-09-29</td>\n",
       "      <td>HEYWARD, ANN O</td>\n",
       "      <td>NaN</td>\n",
       "      <td>10.0</td>\n",
       "      <td>606582542</td>\n",
       "      <td>OHIO AEROSPACE INSTITUTE</td>\n",
       "      <td>BROOK PARK</td>\n",
       "      <td>OH</td>\n",
       "      <td>44142-1012</td>\n",
       "      <td>UNITED STATES</td>\n",
       "      <td>NaT</td>\n",
       "      <td>NaT</td>\n",
       "      <td>00.000</td>\n",
       "      <td>2010</td>\n",
       "      <td>112500.0</td>\n",
       "      <td>NaN</td>\n",
       "    </tr>\n",
       "    <tr>\n",
       "      <th>2</th>\n",
       "      <td>121221</td>\n",
       "      <td>Area; Astronomy; Award; Chicago; Collaboratio...</td>\n",
       "      <td>GRAVITATIONAL-WAVE ASTRONOMY WITH BINARY COMPA...</td>\n",
       "      <td>NSF</td>\n",
       "      <td>NSF</td>\n",
       "      <td>NaN</td>\n",
       "      <td>0969820</td>\n",
       "      <td>2010-11-01</td>\n",
       "      <td>2013-10-31</td>\n",
       "      <td>KALOGERA, VASSILIKI</td>\n",
       "      <td>LUIJTEN, ERIK</td>\n",
       "      <td>9.0</td>\n",
       "      <td>160079455</td>\n",
       "      <td>NORTHWESTERN UNIVERSITY</td>\n",
       "      <td>EVANSTON</td>\n",
       "      <td>IL</td>\n",
       "      <td>60208-1110</td>\n",
       "      <td>UNITED STATES</td>\n",
       "      <td>NaT</td>\n",
       "      <td>NaT</td>\n",
       "      <td>47.049</td>\n",
       "      <td>2010</td>\n",
       "      <td>546153.0</td>\n",
       "      <td>NaN</td>\n",
       "    </tr>\n",
       "    <tr>\n",
       "      <th>3</th>\n",
       "      <td>121222</td>\n",
       "      <td>anthropogenesis; Award; base; Betula Genus; C...</td>\n",
       "      <td>INFLUENCE OF THE INDONESIAN THROUGHFLOW IN THE...</td>\n",
       "      <td>NSF</td>\n",
       "      <td>NSF</td>\n",
       "      <td>NaN</td>\n",
       "      <td>1003610</td>\n",
       "      <td>2010-10-01</td>\n",
       "      <td>2012-09-30</td>\n",
       "      <td>GUILDERSON, THOMAS P</td>\n",
       "      <td>NaN</td>\n",
       "      <td>17.0</td>\n",
       "      <td>125084723</td>\n",
       "      <td>UNIVERSITY OF CALIFORNIA SANTA CRUZ</td>\n",
       "      <td>SANTA CRUZ</td>\n",
       "      <td>CA</td>\n",
       "      <td>95064-4107</td>\n",
       "      <td>UNITED STATES</td>\n",
       "      <td>NaT</td>\n",
       "      <td>NaT</td>\n",
       "      <td>47.050</td>\n",
       "      <td>2010</td>\n",
       "      <td>78594.0</td>\n",
       "      <td>NaN</td>\n",
       "    </tr>\n",
       "    <tr>\n",
       "      <th>4</th>\n",
       "      <td>121223</td>\n",
       "      <td>Academia; Address; Area; Award; California; C...</td>\n",
       "      <td>US-MEXICO WORKSHOP ON INTERACTIVE AND UBIQUITO...</td>\n",
       "      <td>NSF</td>\n",
       "      <td>NSF</td>\n",
       "      <td>NaN</td>\n",
       "      <td>1042937</td>\n",
       "      <td>2010-11-01</td>\n",
       "      <td>2011-10-31</td>\n",
       "      <td>HAYES, GILLIAN</td>\n",
       "      <td>TENTORI, MONICA</td>\n",
       "      <td>48.0</td>\n",
       "      <td>046705849</td>\n",
       "      <td>UNIVERSITY OF CALIFORNIA IRVINE</td>\n",
       "      <td>IRVINE</td>\n",
       "      <td>CA</td>\n",
       "      <td>92697-7600</td>\n",
       "      <td>UNITED STATES</td>\n",
       "      <td>NaT</td>\n",
       "      <td>NaT</td>\n",
       "      <td>47.079</td>\n",
       "      <td>2010</td>\n",
       "      <td>16883.0</td>\n",
       "      <td>NaN</td>\n",
       "    </tr>\n",
       "  </tbody>\n",
       "</table>\n",
       "</div>"
      ],
      "text/plain": [
       "   project_id                                      project_terms  \\\n",
       "0      121219   Alloys; Arizona; base; Research; Research Per...   \n",
       "1      121220   Funding; Industry; operation; Participant; Re...   \n",
       "2      121221   Area; Astronomy; Award; Chicago; Collaboratio...   \n",
       "3      121222   anthropogenesis; Award; base; Betula Genus; C...   \n",
       "4      121223   Academia; Address; Area; Award; California; C...   \n",
       "\n",
       "                                       project_title department agency  \\\n",
       "0  THIS IS A PROPOSAL FOR GROUND-BASED RESEARCH O...       NASA   NASA   \n",
       "1  CONTINUED OPERATION OF THE AEROACOUSTICS RESEA...       NASA   NASA   \n",
       "2  GRAVITATIONAL-WAVE ASTRONOMY WITH BINARY COMPA...        NSF    NSF   \n",
       "3  INFLUENCE OF THE INDONESIAN THROUGHFLOW IN THE...        NSF    NSF   \n",
       "4  US-MEXICO WORKSHOP ON INTERACTIVE AND UBIQUITO...        NSF    NSF   \n",
       "\n",
       "  ic_center project_number project_start_date project_end_date  \\\n",
       "0       NaN     NNX10AV40G         2010-12-01       2013-11-30   \n",
       "1       NaN     NNC10ZA02A         2010-09-30       2011-09-29   \n",
       "2       NaN        0969820         2010-11-01       2013-10-31   \n",
       "3       NaN        1003610         2010-10-01       2012-09-30   \n",
       "4       NaN        1042937         2010-11-01       2011-10-31   \n",
       "\n",
       "  contact_pi_project_leader        other_pis  congressional_district  \\\n",
       "0             POIRER, DAVID              NaN                     7.0   \n",
       "1            HEYWARD, ANN O              NaN                    10.0   \n",
       "2       KALOGERA, VASSILIKI    LUIJTEN, ERIK                     9.0   \n",
       "3      GUILDERSON, THOMAS P              NaN                    17.0   \n",
       "4            HAYES, GILLIAN  TENTORI, MONICA                    48.0   \n",
       "\n",
       "  duns_number                    organization_name organization_city  \\\n",
       "0   806345617                UNIVERSITY OF ARIZONA            TUCSON   \n",
       "1   606582542             OHIO AEROSPACE INSTITUTE        BROOK PARK   \n",
       "2   160079455              NORTHWESTERN UNIVERSITY          EVANSTON   \n",
       "3   125084723  UNIVERSITY OF CALIFORNIA SANTA CRUZ        SANTA CRUZ   \n",
       "4   046705849      UNIVERSITY OF CALIFORNIA IRVINE            IRVINE   \n",
       "\n",
       "  organization_state organization_zip organization_country budget_start_date  \\\n",
       "0                 AZ       85719-4824        UNITED STATES               NaT   \n",
       "1                 OH       44142-1012        UNITED STATES               NaT   \n",
       "2                 IL       60208-1110        UNITED STATES               NaT   \n",
       "3                 CA       95064-4107        UNITED STATES               NaT   \n",
       "4                 CA       92697-7600        UNITED STATES               NaT   \n",
       "\n",
       "  budget_end_date cfda_code    fy  fy_total_cost  fy_total_cost_sub_projects  \n",
       "0             NaT    43.AAA  2010       449452.0                         NaN  \n",
       "1             NaT    00.000  2010       112500.0                         NaN  \n",
       "2             NaT    47.049  2010       546153.0                         NaN  \n",
       "3             NaT    47.050  2010        78594.0                         NaN  \n",
       "4             NaT    47.079  2010        16883.0                         NaN  "
      ]
     },
     "execution_count": 25,
     "metadata": {},
     "output_type": "execute_result"
    }
   ],
   "source": [
    "# It is more comfortable having column names in lowercase\n",
    "df.columns = df.columns.str.lower()\n",
    "df.head()"
   ]
  },
  {
   "cell_type": "code",
   "execution_count": 26,
   "metadata": {},
   "outputs": [
    {
     "data": {
      "text/plain": [
       "NIH        85791\n",
       "NSF        13632\n",
       "ALLCDC      4521\n",
       "NIFA        3325\n",
       "NASA        1903\n",
       "CDMRP        782\n",
       "AHRQ         547\n",
       "EPA          343\n",
       "FDA          208\n",
       "ARS          206\n",
       "NIDILRR       71\n",
       "DVBIC         50\n",
       "CNRM          12\n",
       "VA             8\n",
       "CCCRP          1\n",
       "Name: agency, dtype: int64"
      ]
     },
     "execution_count": 26,
     "metadata": {},
     "output_type": "execute_result"
    }
   ],
   "source": [
    "# When you want to check the values of a variable\n",
    "df.agency.value_counts()"
   ]
  },
  {
   "cell_type": "markdown",
   "metadata": {},
   "source": [
    "#### Multiple-column selection\n",
    "to select multiple columns, wrap the column names in a python list, then put the list or tuple between the brackets after the dataframe"
   ]
  },
  {
   "cell_type": "code",
   "execution_count": 27,
   "metadata": {},
   "outputs": [
    {
     "data": {
      "text/html": [
       "<div>\n",
       "<style scoped>\n",
       "    .dataframe tbody tr th:only-of-type {\n",
       "        vertical-align: middle;\n",
       "    }\n",
       "\n",
       "    .dataframe tbody tr th {\n",
       "        vertical-align: top;\n",
       "    }\n",
       "\n",
       "    .dataframe thead th {\n",
       "        text-align: right;\n",
       "    }\n",
       "</style>\n",
       "<table border=\"1\" class=\"dataframe\">\n",
       "  <thead>\n",
       "    <tr style=\"text-align: right;\">\n",
       "      <th></th>\n",
       "      <th>agency</th>\n",
       "      <th>project_title</th>\n",
       "      <th>fy_total_cost</th>\n",
       "      <th>project_start_date</th>\n",
       "      <th>project_end_date</th>\n",
       "    </tr>\n",
       "  </thead>\n",
       "  <tbody>\n",
       "    <tr>\n",
       "      <th>0</th>\n",
       "      <td>NASA</td>\n",
       "      <td>THIS IS A PROPOSAL FOR GROUND-BASED RESEARCH O...</td>\n",
       "      <td>449452.0</td>\n",
       "      <td>2010-12-01</td>\n",
       "      <td>2013-11-30</td>\n",
       "    </tr>\n",
       "    <tr>\n",
       "      <th>1</th>\n",
       "      <td>NASA</td>\n",
       "      <td>CONTINUED OPERATION OF THE AEROACOUSTICS RESEA...</td>\n",
       "      <td>112500.0</td>\n",
       "      <td>2010-09-30</td>\n",
       "      <td>2011-09-29</td>\n",
       "    </tr>\n",
       "    <tr>\n",
       "      <th>2</th>\n",
       "      <td>NSF</td>\n",
       "      <td>GRAVITATIONAL-WAVE ASTRONOMY WITH BINARY COMPA...</td>\n",
       "      <td>546153.0</td>\n",
       "      <td>2010-11-01</td>\n",
       "      <td>2013-10-31</td>\n",
       "    </tr>\n",
       "    <tr>\n",
       "      <th>3</th>\n",
       "      <td>NSF</td>\n",
       "      <td>INFLUENCE OF THE INDONESIAN THROUGHFLOW IN THE...</td>\n",
       "      <td>78594.0</td>\n",
       "      <td>2010-10-01</td>\n",
       "      <td>2012-09-30</td>\n",
       "    </tr>\n",
       "    <tr>\n",
       "      <th>4</th>\n",
       "      <td>NSF</td>\n",
       "      <td>US-MEXICO WORKSHOP ON INTERACTIVE AND UBIQUITO...</td>\n",
       "      <td>16883.0</td>\n",
       "      <td>2010-11-01</td>\n",
       "      <td>2011-10-31</td>\n",
       "    </tr>\n",
       "  </tbody>\n",
       "</table>\n",
       "</div>"
      ],
      "text/plain": [
       "  agency                                      project_title  fy_total_cost  \\\n",
       "0   NASA  THIS IS A PROPOSAL FOR GROUND-BASED RESEARCH O...       449452.0   \n",
       "1   NASA  CONTINUED OPERATION OF THE AEROACOUSTICS RESEA...       112500.0   \n",
       "2    NSF  GRAVITATIONAL-WAVE ASTRONOMY WITH BINARY COMPA...       546153.0   \n",
       "3    NSF  INFLUENCE OF THE INDONESIAN THROUGHFLOW IN THE...        78594.0   \n",
       "4    NSF  US-MEXICO WORKSHOP ON INTERACTIVE AND UBIQUITO...        16883.0   \n",
       "\n",
       "  project_start_date project_end_date  \n",
       "0         2010-12-01       2013-11-30  \n",
       "1         2010-09-30       2011-09-29  \n",
       "2         2010-11-01       2013-10-31  \n",
       "3         2010-10-01       2012-09-30  \n",
       "4         2010-11-01       2011-10-31  "
      ]
     },
     "execution_count": 27,
     "metadata": {},
     "output_type": "execute_result"
    }
   ],
   "source": [
    "# here we selected the columns and assigned them to a new dataframe example2\n",
    "df2 = (df[['agency', 'project_title', 'fy_total_cost',\n",
    "                           'project_start_date','project_end_date']])\n",
    "df2.head()"
   ]
  },
  {
   "cell_type": "markdown",
   "metadata": {},
   "source": [
    "#### single/ multiple cell(s) selection\n",
    "Use the `loc` method for cell selection. Pass the row and column indices in the _square brackets_ after `loc`. Specify the row index first, and then column name, separated by a comma. Note that both indices will be included."
   ]
  },
  {
   "cell_type": "code",
   "execution_count": 28,
   "metadata": {},
   "outputs": [
    {
     "data": {
      "text/plain": [
       "Timestamp('2010-10-01 00:00:00')"
      ]
     },
     "execution_count": 28,
     "metadata": {},
     "output_type": "execute_result"
    }
   ],
   "source": [
    "# single cell selection\n",
    "# select the cell in row 3 and column project_start_date\n",
    "cell = df2.loc[3, 'project_start_date']\n",
    "cell"
   ]
  },
  {
   "cell_type": "code",
   "execution_count": 29,
   "metadata": {},
   "outputs": [
    {
     "data": {
      "text/plain": [
       "0   2010-12-01\n",
       "2   2010-11-01\n",
       "4   2010-11-01\n",
       "Name: project_start_date, dtype: datetime64[ns]"
      ]
     },
     "execution_count": 29,
     "metadata": {},
     "output_type": "execute_result"
    }
   ],
   "source": [
    "# multiple cells selection\n",
    "# option 1: use a python list to explicitly list the rows/columns\n",
    "cell = df2.loc[[0, 2, 4], 'project_start_date']\n",
    "cell"
   ]
  },
  {
   "cell_type": "code",
   "execution_count": 30,
   "metadata": {},
   "outputs": [
    {
     "data": {
      "text/plain": [
       "0   2010-12-01\n",
       "1   2010-09-30\n",
       "2   2010-11-01\n",
       "3   2010-10-01\n",
       "4   2010-11-01\n",
       "Name: project_start_date, dtype: datetime64[ns]"
      ]
     },
     "execution_count": 30,
     "metadata": {},
     "output_type": "execute_result"
    }
   ],
   "source": [
    "# option 2: use colon to indicate contiguous selection\n",
    "cell = df2.loc[0:4, 'project_start_date']\n",
    "cell"
   ]
  },
  {
   "cell_type": "code",
   "execution_count": 31,
   "metadata": {},
   "outputs": [
    {
     "data": {
      "text/plain": [
       "agency                                                              NSF\n",
       "project_title         CAREER: COLLABORATIVE COMMUNICATION AND STORAG...\n",
       "fy_total_cost                                                    162314\n",
       "project_start_date                                  2010-08-23 00:00:00\n",
       "project_end_date                                    2012-05-31 00:00:00\n",
       "Name: 5, dtype: object"
      ]
     },
     "execution_count": 31,
     "metadata": {},
     "output_type": "execute_result"
    }
   ],
   "source": [
    "# if we want to select all columns from row 5, we can use a colon symbol :.\n",
    "row5 = df2.loc[5, :]\n",
    "row5"
   ]
  },
  {
   "cell_type": "markdown",
   "metadata": {},
   "source": [
    "### Subsetting Data\n",
    "#### Subsetting numerical data\n",
    "Similar to the `where` statement in sql, we can also select only data that meet certain condition. Depending on whether the data is numberical or string, we should choose to use different syntax for each situation. For example, if we would like to select columns that start from year 2015, we can use a larger than or equal to operator condition to subset."
   ]
  },
  {
   "cell_type": "code",
   "execution_count": 32,
   "metadata": {},
   "outputs": [
    {
     "data": {
      "text/html": [
       "<div>\n",
       "<style scoped>\n",
       "    .dataframe tbody tr th:only-of-type {\n",
       "        vertical-align: middle;\n",
       "    }\n",
       "\n",
       "    .dataframe tbody tr th {\n",
       "        vertical-align: top;\n",
       "    }\n",
       "\n",
       "    .dataframe thead th {\n",
       "        text-align: right;\n",
       "    }\n",
       "</style>\n",
       "<table border=\"1\" class=\"dataframe\">\n",
       "  <thead>\n",
       "    <tr style=\"text-align: right;\">\n",
       "      <th></th>\n",
       "      <th>agency</th>\n",
       "      <th>project_title</th>\n",
       "      <th>fy_total_cost</th>\n",
       "      <th>project_start_date</th>\n",
       "      <th>project_end_date</th>\n",
       "    </tr>\n",
       "  </thead>\n",
       "  <tbody>\n",
       "    <tr>\n",
       "      <th>0</th>\n",
       "      <td>NASA</td>\n",
       "      <td>THIS IS A PROPOSAL FOR GROUND-BASED RESEARCH O...</td>\n",
       "      <td>449452.0</td>\n",
       "      <td>2010-12-01</td>\n",
       "      <td>2013-11-30</td>\n",
       "    </tr>\n",
       "    <tr>\n",
       "      <th>1</th>\n",
       "      <td>NASA</td>\n",
       "      <td>CONTINUED OPERATION OF THE AEROACOUSTICS RESEA...</td>\n",
       "      <td>112500.0</td>\n",
       "      <td>2010-09-30</td>\n",
       "      <td>2011-09-29</td>\n",
       "    </tr>\n",
       "    <tr>\n",
       "      <th>2</th>\n",
       "      <td>NSF</td>\n",
       "      <td>GRAVITATIONAL-WAVE ASTRONOMY WITH BINARY COMPA...</td>\n",
       "      <td>546153.0</td>\n",
       "      <td>2010-11-01</td>\n",
       "      <td>2013-10-31</td>\n",
       "    </tr>\n",
       "    <tr>\n",
       "      <th>3</th>\n",
       "      <td>NSF</td>\n",
       "      <td>INFLUENCE OF THE INDONESIAN THROUGHFLOW IN THE...</td>\n",
       "      <td>78594.0</td>\n",
       "      <td>2010-10-01</td>\n",
       "      <td>2012-09-30</td>\n",
       "    </tr>\n",
       "    <tr>\n",
       "      <th>5</th>\n",
       "      <td>NSF</td>\n",
       "      <td>CAREER: COLLABORATIVE COMMUNICATION AND STORAG...</td>\n",
       "      <td>162314.0</td>\n",
       "      <td>2010-08-23</td>\n",
       "      <td>2012-05-31</td>\n",
       "    </tr>\n",
       "  </tbody>\n",
       "</table>\n",
       "</div>"
      ],
      "text/plain": [
       "  agency                                      project_title  fy_total_cost  \\\n",
       "0   NASA  THIS IS A PROPOSAL FOR GROUND-BASED RESEARCH O...       449452.0   \n",
       "1   NASA  CONTINUED OPERATION OF THE AEROACOUSTICS RESEA...       112500.0   \n",
       "2    NSF  GRAVITATIONAL-WAVE ASTRONOMY WITH BINARY COMPA...       546153.0   \n",
       "3    NSF  INFLUENCE OF THE INDONESIAN THROUGHFLOW IN THE...        78594.0   \n",
       "5    NSF  CAREER: COLLABORATIVE COMMUNICATION AND STORAG...       162314.0   \n",
       "\n",
       "  project_start_date project_end_date  \n",
       "0         2010-12-01       2013-11-30  \n",
       "1         2010-09-30       2011-09-29  \n",
       "2         2010-11-01       2013-10-31  \n",
       "3         2010-10-01       2012-09-30  \n",
       "5         2010-08-23       2012-05-31  "
      ]
     },
     "execution_count": 32,
     "metadata": {},
     "output_type": "execute_result"
    }
   ],
   "source": [
    "# conditional subsetting: put the conditional statement within the square brackets \n",
    "# the conditional statement here is that we want the cost to be higher than or equal to 50.0000.\n",
    "df3 = df2[df2['fy_total_cost'] >= 50000]\n",
    "df3.head()"
   ]
  },
  {
   "cell_type": "markdown",
   "metadata": {},
   "source": [
    "#### Subsetting string/categorical data\n",
    "When the column contains string data or categorical data, the comparison operators might not be the choice for data selection. Instead, we can compare each data in a column to a target list to see if the data in column is included in the list. This is done by calling the `isin` method."
   ]
  },
  {
   "cell_type": "code",
   "execution_count": 33,
   "metadata": {},
   "outputs": [
    {
     "data": {
      "text/html": [
       "<div>\n",
       "<style scoped>\n",
       "    .dataframe tbody tr th:only-of-type {\n",
       "        vertical-align: middle;\n",
       "    }\n",
       "\n",
       "    .dataframe tbody tr th {\n",
       "        vertical-align: top;\n",
       "    }\n",
       "\n",
       "    .dataframe thead th {\n",
       "        text-align: right;\n",
       "    }\n",
       "</style>\n",
       "<table border=\"1\" class=\"dataframe\">\n",
       "  <thead>\n",
       "    <tr style=\"text-align: right;\">\n",
       "      <th></th>\n",
       "      <th>agency</th>\n",
       "      <th>project_title</th>\n",
       "      <th>fy_total_cost</th>\n",
       "      <th>project_start_date</th>\n",
       "      <th>project_end_date</th>\n",
       "    </tr>\n",
       "  </thead>\n",
       "  <tbody>\n",
       "    <tr>\n",
       "      <th>2</th>\n",
       "      <td>NSF</td>\n",
       "      <td>GRAVITATIONAL-WAVE ASTRONOMY WITH BINARY COMPA...</td>\n",
       "      <td>546153.0</td>\n",
       "      <td>2010-11-01</td>\n",
       "      <td>2013-10-31</td>\n",
       "    </tr>\n",
       "    <tr>\n",
       "      <th>3</th>\n",
       "      <td>NSF</td>\n",
       "      <td>INFLUENCE OF THE INDONESIAN THROUGHFLOW IN THE...</td>\n",
       "      <td>78594.0</td>\n",
       "      <td>2010-10-01</td>\n",
       "      <td>2012-09-30</td>\n",
       "    </tr>\n",
       "    <tr>\n",
       "      <th>4</th>\n",
       "      <td>NSF</td>\n",
       "      <td>US-MEXICO WORKSHOP ON INTERACTIVE AND UBIQUITO...</td>\n",
       "      <td>16883.0</td>\n",
       "      <td>2010-11-01</td>\n",
       "      <td>2011-10-31</td>\n",
       "    </tr>\n",
       "    <tr>\n",
       "      <th>5</th>\n",
       "      <td>NSF</td>\n",
       "      <td>CAREER: COLLABORATIVE COMMUNICATION AND STORAG...</td>\n",
       "      <td>162314.0</td>\n",
       "      <td>2010-08-23</td>\n",
       "      <td>2012-05-31</td>\n",
       "    </tr>\n",
       "    <tr>\n",
       "      <th>6</th>\n",
       "      <td>NSF</td>\n",
       "      <td>SHF:SM: A TIME-PREDICTABLE MULTICORE/MANYCORE ...</td>\n",
       "      <td>272164.0</td>\n",
       "      <td>2010-07-16</td>\n",
       "      <td>2012-07-31</td>\n",
       "    </tr>\n",
       "  </tbody>\n",
       "</table>\n",
       "</div>"
      ],
      "text/plain": [
       "  agency                                      project_title  fy_total_cost  \\\n",
       "2    NSF  GRAVITATIONAL-WAVE ASTRONOMY WITH BINARY COMPA...       546153.0   \n",
       "3    NSF  INFLUENCE OF THE INDONESIAN THROUGHFLOW IN THE...        78594.0   \n",
       "4    NSF  US-MEXICO WORKSHOP ON INTERACTIVE AND UBIQUITO...        16883.0   \n",
       "5    NSF  CAREER: COLLABORATIVE COMMUNICATION AND STORAG...       162314.0   \n",
       "6    NSF  SHF:SM: A TIME-PREDICTABLE MULTICORE/MANYCORE ...       272164.0   \n",
       "\n",
       "  project_start_date project_end_date  \n",
       "2         2010-11-01       2013-10-31  \n",
       "3         2010-10-01       2012-09-30  \n",
       "4         2010-11-01       2011-10-31  \n",
       "5         2010-08-23       2012-05-31  \n",
       "6         2010-07-16       2012-07-31  "
      ]
     },
     "execution_count": 33,
     "metadata": {},
     "output_type": "execute_result"
    }
   ],
   "source": [
    "# select specific agencies\n",
    "# we specify the target list within the parentheses of the `isin` method\n",
    "df4 = df2[df2['agency'].isin(['NIH', 'NSF'])]\n",
    "df4.head()"
   ]
  },
  {
   "cell_type": "code",
   "execution_count": 34,
   "metadata": {},
   "outputs": [
    {
     "data": {
      "text/plain": [
       "NIH    85791\n",
       "NSF    13632\n",
       "Name: agency, dtype: int64"
      ]
     },
     "execution_count": 34,
     "metadata": {},
     "output_type": "execute_result"
    }
   ],
   "source": [
    "# Let's check\n",
    "df4.agency.value_counts()"
   ]
  },
  {
   "cell_type": "markdown",
   "metadata": {},
   "source": [
    "#### Subsetting with multiple conditions\n",
    "If we want to subset the data with more than one condition, we can specify all the conditions and concatenate them with the python keyword `&`. Remember to put every single condition within a pair of parentheses."
   ]
  },
  {
   "cell_type": "code",
   "execution_count": 35,
   "metadata": {},
   "outputs": [
    {
     "data": {
      "text/html": [
       "<div>\n",
       "<style scoped>\n",
       "    .dataframe tbody tr th:only-of-type {\n",
       "        vertical-align: middle;\n",
       "    }\n",
       "\n",
       "    .dataframe tbody tr th {\n",
       "        vertical-align: top;\n",
       "    }\n",
       "\n",
       "    .dataframe thead th {\n",
       "        text-align: right;\n",
       "    }\n",
       "</style>\n",
       "<table border=\"1\" class=\"dataframe\">\n",
       "  <thead>\n",
       "    <tr style=\"text-align: right;\">\n",
       "      <th></th>\n",
       "      <th>agency</th>\n",
       "      <th>project_title</th>\n",
       "      <th>fy_total_cost</th>\n",
       "      <th>project_start_date</th>\n",
       "      <th>project_end_date</th>\n",
       "    </tr>\n",
       "  </thead>\n",
       "  <tbody>\n",
       "    <tr>\n",
       "      <th>7</th>\n",
       "      <td>NSF</td>\n",
       "      <td>COLLABORATIVE RESEARCH: EFFECTS OF LAND-USE, P...</td>\n",
       "      <td>1151411.0</td>\n",
       "      <td>2010-10-01</td>\n",
       "      <td>2013-09-30</td>\n",
       "    </tr>\n",
       "    <tr>\n",
       "      <th>9</th>\n",
       "      <td>NSF</td>\n",
       "      <td>PHASE 4 PROPOSAL: MANAGEMENT OF THE POST DELIV...</td>\n",
       "      <td>11178098.0</td>\n",
       "      <td>2013-01-01</td>\n",
       "      <td>2014-04-30</td>\n",
       "    </tr>\n",
       "    <tr>\n",
       "      <th>28</th>\n",
       "      <td>NSF</td>\n",
       "      <td>EXPANDING USE OF THE CAT: ASSESSING AND IMPROV...</td>\n",
       "      <td>1836144.0</td>\n",
       "      <td>2010-10-01</td>\n",
       "      <td>2013-09-30</td>\n",
       "    </tr>\n",
       "    <tr>\n",
       "      <th>35</th>\n",
       "      <td>NSF</td>\n",
       "      <td>COLLABORATIVE RESEARCH: CYBERINFRASTRUCTURE-EN...</td>\n",
       "      <td>2697799.0</td>\n",
       "      <td>2010-10-01</td>\n",
       "      <td>2013-09-30</td>\n",
       "    </tr>\n",
       "    <tr>\n",
       "      <th>38</th>\n",
       "      <td>NSF</td>\n",
       "      <td>RESEARCH AND EDUCATION CYBERINFRASTRUCTURE INV...</td>\n",
       "      <td>1749000.0</td>\n",
       "      <td>2010-10-01</td>\n",
       "      <td>2013-09-30</td>\n",
       "    </tr>\n",
       "  </tbody>\n",
       "</table>\n",
       "</div>"
      ],
      "text/plain": [
       "   agency                                      project_title  fy_total_cost  \\\n",
       "7     NSF  COLLABORATIVE RESEARCH: EFFECTS OF LAND-USE, P...      1151411.0   \n",
       "9     NSF  PHASE 4 PROPOSAL: MANAGEMENT OF THE POST DELIV...     11178098.0   \n",
       "28    NSF  EXPANDING USE OF THE CAT: ASSESSING AND IMPROV...      1836144.0   \n",
       "35    NSF  COLLABORATIVE RESEARCH: CYBERINFRASTRUCTURE-EN...      2697799.0   \n",
       "38    NSF  RESEARCH AND EDUCATION CYBERINFRASTRUCTURE INV...      1749000.0   \n",
       "\n",
       "   project_start_date project_end_date  \n",
       "7          2010-10-01       2013-09-30  \n",
       "9          2013-01-01       2014-04-30  \n",
       "28         2010-10-01       2013-09-30  \n",
       "35         2010-10-01       2013-09-30  \n",
       "38         2010-10-01       2013-09-30  "
      ]
     },
     "execution_count": 35,
     "metadata": {},
     "output_type": "execute_result"
    }
   ],
   "source": [
    "# combine both selections from above\n",
    "df5 = df2[(df2['fy_total_cost'] >= 1000000) & (df2['agency'].isin(['NIH', 'NSF']))]\n",
    "df5.head()"
   ]
  },
  {
   "cell_type": "code",
   "execution_count": 36,
   "metadata": {},
   "outputs": [
    {
     "data": {
      "text/plain": [
       "NIH    4957\n",
       "NSF     657\n",
       "Name: agency, dtype: int64"
      ]
     },
     "execution_count": 36,
     "metadata": {},
     "output_type": "execute_result"
    }
   ],
   "source": [
    "# Let's check again\n",
    "df5.agency.value_counts()"
   ]
  },
  {
   "cell_type": "markdown",
   "metadata": {},
   "source": [
    "### Statistics\n",
    "#### Descriptive stats\n",
    "Pandas has integrated some very useful tools to help us understand the distribution of the data. The `describe` method computes the most commonly used descriptive statistics, such as count, mean, standard deviation and quantiles for a dataframe. "
   ]
  },
  {
   "cell_type": "code",
   "execution_count": 37,
   "metadata": {},
   "outputs": [
    {
     "data": {
      "text/html": [
       "<div>\n",
       "<style scoped>\n",
       "    .dataframe tbody tr th:only-of-type {\n",
       "        vertical-align: middle;\n",
       "    }\n",
       "\n",
       "    .dataframe tbody tr th {\n",
       "        vertical-align: top;\n",
       "    }\n",
       "\n",
       "    .dataframe thead th {\n",
       "        text-align: right;\n",
       "    }\n",
       "</style>\n",
       "<table border=\"1\" class=\"dataframe\">\n",
       "  <thead>\n",
       "    <tr style=\"text-align: right;\">\n",
       "      <th></th>\n",
       "      <th>project_id</th>\n",
       "      <th>congressional_district</th>\n",
       "      <th>fy</th>\n",
       "      <th>fy_total_cost</th>\n",
       "      <th>fy_total_cost_sub_projects</th>\n",
       "    </tr>\n",
       "  </thead>\n",
       "  <tbody>\n",
       "    <tr>\n",
       "      <th>count</th>\n",
       "      <td>111400.000000</td>\n",
       "      <td>104072.000000</td>\n",
       "      <td>111400.0</td>\n",
       "      <td>9.069400e+04</td>\n",
       "      <td>1.847400e+04</td>\n",
       "    </tr>\n",
       "    <tr>\n",
       "      <th>mean</th>\n",
       "      <td>354577.758232</td>\n",
       "      <td>11.357647</td>\n",
       "      <td>2010.0</td>\n",
       "      <td>5.091656e+05</td>\n",
       "      <td>2.301802e+05</td>\n",
       "    </tr>\n",
       "    <tr>\n",
       "      <th>std</th>\n",
       "      <td>138390.392104</td>\n",
       "      <td>14.709129</td>\n",
       "      <td>0.0</td>\n",
       "      <td>1.792130e+06</td>\n",
       "      <td>4.395468e+05</td>\n",
       "    </tr>\n",
       "    <tr>\n",
       "      <th>min</th>\n",
       "      <td>121219.000000</td>\n",
       "      <td>0.000000</td>\n",
       "      <td>2010.0</td>\n",
       "      <td>1.000000e+00</td>\n",
       "      <td>1.000000e+00</td>\n",
       "    </tr>\n",
       "    <tr>\n",
       "      <th>25%</th>\n",
       "      <td>295266.750000</td>\n",
       "      <td>3.000000</td>\n",
       "      <td>2010.0</td>\n",
       "      <td>1.477842e+05</td>\n",
       "      <td>3.342400e+04</td>\n",
       "    </tr>\n",
       "    <tr>\n",
       "      <th>50%</th>\n",
       "      <td>337986.500000</td>\n",
       "      <td>7.000000</td>\n",
       "      <td>2010.0</td>\n",
       "      <td>3.000000e+05</td>\n",
       "      <td>1.490290e+05</td>\n",
       "    </tr>\n",
       "    <tr>\n",
       "      <th>75%</th>\n",
       "      <td>416683.750000</td>\n",
       "      <td>13.000000</td>\n",
       "      <td>2010.0</td>\n",
       "      <td>4.440865e+05</td>\n",
       "      <td>2.940112e+05</td>\n",
       "    </tr>\n",
       "    <tr>\n",
       "      <th>max</th>\n",
       "      <td>915386.000000</td>\n",
       "      <td>99.000000</td>\n",
       "      <td>2010.0</td>\n",
       "      <td>2.423459e+08</td>\n",
       "      <td>1.827755e+07</td>\n",
       "    </tr>\n",
       "  </tbody>\n",
       "</table>\n",
       "</div>"
      ],
      "text/plain": [
       "          project_id  congressional_district        fy  fy_total_cost  \\\n",
       "count  111400.000000           104072.000000  111400.0   9.069400e+04   \n",
       "mean   354577.758232               11.357647    2010.0   5.091656e+05   \n",
       "std    138390.392104               14.709129       0.0   1.792130e+06   \n",
       "min    121219.000000                0.000000    2010.0   1.000000e+00   \n",
       "25%    295266.750000                3.000000    2010.0   1.477842e+05   \n",
       "50%    337986.500000                7.000000    2010.0   3.000000e+05   \n",
       "75%    416683.750000               13.000000    2010.0   4.440865e+05   \n",
       "max    915386.000000               99.000000    2010.0   2.423459e+08   \n",
       "\n",
       "       fy_total_cost_sub_projects  \n",
       "count                1.847400e+04  \n",
       "mean                 2.301802e+05  \n",
       "std                  4.395468e+05  \n",
       "min                  1.000000e+00  \n",
       "25%                  3.342400e+04  \n",
       "50%                  1.490290e+05  \n",
       "75%                  2.940112e+05  \n",
       "max                  1.827755e+07  "
      ]
     },
     "execution_count": 37,
     "metadata": {},
     "output_type": "execute_result"
    }
   ],
   "source": [
    "# see the descriptive statistics of the variables\n",
    "df.describe()"
   ]
  },
  {
   "cell_type": "markdown",
   "metadata": {},
   "source": [
    "#### Value counts and unique values\n",
    "For categorical values, it is often helpful to figure out what are the unique values of a given column, and the quantity of each data. Let's go back to the welfare data"
   ]
  },
  {
   "cell_type": "code",
   "execution_count": 38,
   "metadata": {},
   "outputs": [
    {
     "data": {
      "text/plain": [
       "array(['NASA', 'NSF', 'EPA', 'NIH', 'CNRM', 'AHRQ', 'FDA', 'CDMRP', 'VA',\n",
       "       'ALLCDC', 'NIFA', 'ARS', 'NIDILRR', 'CCCRP', 'DVBIC'], dtype=object)"
      ]
     },
     "execution_count": 38,
     "metadata": {},
     "output_type": "execute_result"
    }
   ],
   "source": [
    "# find out how many different agencies are there in the data\n",
    "df['agency'].unique()"
   ]
  },
  {
   "cell_type": "code",
   "execution_count": 39,
   "metadata": {},
   "outputs": [
    {
     "data": {
      "text/plain": [
       "NIH        85791\n",
       "NSF        13632\n",
       "ALLCDC      4521\n",
       "NIFA        3325\n",
       "NASA        1903\n",
       "CDMRP        782\n",
       "AHRQ         547\n",
       "EPA          343\n",
       "FDA          208\n",
       "ARS          206\n",
       "NIDILRR       71\n",
       "DVBIC         50\n",
       "CNRM          12\n",
       "VA             8\n",
       "CCCRP          1\n",
       "Name: agency, dtype: int64"
      ]
     },
     "execution_count": 39,
     "metadata": {},
     "output_type": "execute_result"
    }
   ],
   "source": [
    "# to count how many observations for each agency appeared in the data\n",
    "df['agency'].value_counts()"
   ]
  },
  {
   "cell_type": "code",
   "execution_count": 40,
   "metadata": {},
   "outputs": [
    {
     "data": {
      "text/plain": [
       "15"
      ]
     },
     "execution_count": 40,
     "metadata": {},
     "output_type": "execute_result"
    }
   ],
   "source": [
    "# We can combine the the value counts and unique statements\n",
    "len(df['agency'].unique())"
   ]
  },
  {
   "cell_type": "markdown",
   "metadata": {},
   "source": [
    "### Adding and Updating Data\n",
    "#### Creating columns\n",
    "We sometimes need to creat a new column, either to save the previously calculation from other columns, or add new information to the dataframe. The syntax is given below:\n",
    "`dataframe['column_name'] = value`\n",
    "where:\n",
    "dataframe is the dataframe in which the new column is created,\n",
    "column_name is the string of the new column name, \n",
    "value is the value of the each cell."
   ]
  },
  {
   "cell_type": "code",
   "execution_count": 41,
   "metadata": {
    "scrolled": true
   },
   "outputs": [
    {
     "name": "stderr",
     "output_type": "stream",
     "text": [
      "/opt/conda/lib/python3.7/site-packages/ipykernel_launcher.py:3: SettingWithCopyWarning: \n",
      "A value is trying to be set on a copy of a slice from a DataFrame.\n",
      "Try using .loc[row_indexer,col_indexer] = value instead\n",
      "\n",
      "See the caveats in the documentation: http://pandas.pydata.org/pandas-docs/stable/user_guide/indexing.html#returning-a-view-versus-a-copy\n",
      "  This is separate from the ipykernel package so we can avoid doing imports until\n"
     ]
    },
    {
     "data": {
      "text/html": [
       "<div>\n",
       "<style scoped>\n",
       "    .dataframe tbody tr th:only-of-type {\n",
       "        vertical-align: middle;\n",
       "    }\n",
       "\n",
       "    .dataframe tbody tr th {\n",
       "        vertical-align: top;\n",
       "    }\n",
       "\n",
       "    .dataframe thead th {\n",
       "        text-align: right;\n",
       "    }\n",
       "</style>\n",
       "<table border=\"1\" class=\"dataframe\">\n",
       "  <thead>\n",
       "    <tr style=\"text-align: right;\">\n",
       "      <th></th>\n",
       "      <th>agency</th>\n",
       "      <th>project_title</th>\n",
       "      <th>fy_total_cost</th>\n",
       "      <th>project_start_date</th>\n",
       "      <th>project_end_date</th>\n",
       "      <th>monthly</th>\n",
       "    </tr>\n",
       "  </thead>\n",
       "  <tbody>\n",
       "    <tr>\n",
       "      <th>7</th>\n",
       "      <td>NSF</td>\n",
       "      <td>COLLABORATIVE RESEARCH: EFFECTS OF LAND-USE, P...</td>\n",
       "      <td>1151411.0</td>\n",
       "      <td>2010-10-01</td>\n",
       "      <td>2013-09-30</td>\n",
       "      <td>95950.9</td>\n",
       "    </tr>\n",
       "    <tr>\n",
       "      <th>9</th>\n",
       "      <td>NSF</td>\n",
       "      <td>PHASE 4 PROPOSAL: MANAGEMENT OF THE POST DELIV...</td>\n",
       "      <td>11178098.0</td>\n",
       "      <td>2013-01-01</td>\n",
       "      <td>2014-04-30</td>\n",
       "      <td>931508.2</td>\n",
       "    </tr>\n",
       "    <tr>\n",
       "      <th>28</th>\n",
       "      <td>NSF</td>\n",
       "      <td>EXPANDING USE OF THE CAT: ASSESSING AND IMPROV...</td>\n",
       "      <td>1836144.0</td>\n",
       "      <td>2010-10-01</td>\n",
       "      <td>2013-09-30</td>\n",
       "      <td>153012.0</td>\n",
       "    </tr>\n",
       "    <tr>\n",
       "      <th>35</th>\n",
       "      <td>NSF</td>\n",
       "      <td>COLLABORATIVE RESEARCH: CYBERINFRASTRUCTURE-EN...</td>\n",
       "      <td>2697799.0</td>\n",
       "      <td>2010-10-01</td>\n",
       "      <td>2013-09-30</td>\n",
       "      <td>224816.6</td>\n",
       "    </tr>\n",
       "    <tr>\n",
       "      <th>38</th>\n",
       "      <td>NSF</td>\n",
       "      <td>RESEARCH AND EDUCATION CYBERINFRASTRUCTURE INV...</td>\n",
       "      <td>1749000.0</td>\n",
       "      <td>2010-10-01</td>\n",
       "      <td>2013-09-30</td>\n",
       "      <td>145750.0</td>\n",
       "    </tr>\n",
       "  </tbody>\n",
       "</table>\n",
       "</div>"
      ],
      "text/plain": [
       "   agency                                      project_title  fy_total_cost  \\\n",
       "7     NSF  COLLABORATIVE RESEARCH: EFFECTS OF LAND-USE, P...      1151411.0   \n",
       "9     NSF  PHASE 4 PROPOSAL: MANAGEMENT OF THE POST DELIV...     11178098.0   \n",
       "28    NSF  EXPANDING USE OF THE CAT: ASSESSING AND IMPROV...      1836144.0   \n",
       "35    NSF  COLLABORATIVE RESEARCH: CYBERINFRASTRUCTURE-EN...      2697799.0   \n",
       "38    NSF  RESEARCH AND EDUCATION CYBERINFRASTRUCTURE INV...      1749000.0   \n",
       "\n",
       "   project_start_date project_end_date   monthly  \n",
       "7          2010-10-01       2013-09-30   95950.9  \n",
       "9          2013-01-01       2014-04-30  931508.2  \n",
       "28         2010-10-01       2013-09-30  153012.0  \n",
       "35         2010-10-01       2013-09-30  224816.6  \n",
       "38         2010-10-01       2013-09-30  145750.0  "
      ]
     },
     "execution_count": 41,
     "metadata": {},
     "output_type": "execute_result"
    }
   ],
   "source": [
    "# we can then calculate the monthly cost by dividing the project costs column by 12, \n",
    "# and assign this newly computed column to the monthly column\n",
    "df5['monthly'] = df5['fy_total_cost']/12\n",
    "df5.head().round(1)"
   ]
  },
  {
   "cell_type": "markdown",
   "metadata": {},
   "source": [
    "### Grouping and Aggregating Data\n",
    "#### Group by and aggregation functions\n",
    "It is possible to group the dataframe by a column, and use aggregation function on them, and sort the result"
   ]
  },
  {
   "cell_type": "code",
   "execution_count": 42,
   "metadata": {
    "scrolled": true
   },
   "outputs": [
    {
     "data": {
      "text/plain": [
       "agency\n",
       "NIH       85791\n",
       "NSF       13632\n",
       "ALLCDC     4521\n",
       "NIFA       3325\n",
       "NASA       1903\n",
       "Name: project_id, dtype: int64"
      ]
     },
     "execution_count": 42,
     "metadata": {},
     "output_type": "execute_result"
    }
   ],
   "source": [
    "# calculate the how many grants each agency funded\n",
    "# step1: in the groupby method, we pass the column we want to group by, we can also select what columns\n",
    "# we want to carry out the operation\n",
    "# step2: use the count method to count the number of cases\n",
    "# step3: sort the value in descending order (set the ascending parameter to False)\n",
    "df_group = df.groupby('agency')['project_id'].count().sort_values(ascending=False)\n",
    "df_group.head()"
   ]
  },
  {
   "cell_type": "markdown",
   "metadata": {},
   "source": [
    "Other useful aggregation functions are:\n",
    "`sum()`: sum, \n",
    "`mean()`: average, \n",
    "`agg()`: use a python dictionary to specify aggregation function based on each column"
   ]
  },
  {
   "cell_type": "code",
   "execution_count": 43,
   "metadata": {},
   "outputs": [
    {
     "data": {
      "text/html": [
       "<div>\n",
       "<style scoped>\n",
       "    .dataframe tbody tr th:only-of-type {\n",
       "        vertical-align: middle;\n",
       "    }\n",
       "\n",
       "    .dataframe tbody tr th {\n",
       "        vertical-align: top;\n",
       "    }\n",
       "\n",
       "    .dataframe thead th {\n",
       "        text-align: right;\n",
       "    }\n",
       "</style>\n",
       "<table border=\"1\" class=\"dataframe\">\n",
       "  <thead>\n",
       "    <tr style=\"text-align: right;\">\n",
       "      <th></th>\n",
       "      <th>agency</th>\n",
       "      <th>project_id</th>\n",
       "    </tr>\n",
       "  </thead>\n",
       "  <tbody>\n",
       "    <tr>\n",
       "      <th>0</th>\n",
       "      <td>NIH</td>\n",
       "      <td>85791</td>\n",
       "    </tr>\n",
       "    <tr>\n",
       "      <th>1</th>\n",
       "      <td>NSF</td>\n",
       "      <td>13632</td>\n",
       "    </tr>\n",
       "    <tr>\n",
       "      <th>2</th>\n",
       "      <td>ALLCDC</td>\n",
       "      <td>4521</td>\n",
       "    </tr>\n",
       "    <tr>\n",
       "      <th>3</th>\n",
       "      <td>NIFA</td>\n",
       "      <td>3325</td>\n",
       "    </tr>\n",
       "    <tr>\n",
       "      <th>4</th>\n",
       "      <td>NASA</td>\n",
       "      <td>1903</td>\n",
       "    </tr>\n",
       "  </tbody>\n",
       "</table>\n",
       "</div>"
      ],
      "text/plain": [
       "   agency  project_id\n",
       "0     NIH       85791\n",
       "1     NSF       13632\n",
       "2  ALLCDC        4521\n",
       "3    NIFA        3325\n",
       "4    NASA        1903"
      ]
     },
     "execution_count": 43,
     "metadata": {},
     "output_type": "execute_result"
    }
   ],
   "source": [
    "# Note that the aggregation function didn't return a dataframe. So we have to convert it into a dataframe if we wnat \n",
    "# to process it further\n",
    "df_group = df_group.to_frame().reset_index()\n",
    "df_group.head()"
   ]
  },
  {
   "cell_type": "code",
   "execution_count": 44,
   "metadata": {},
   "outputs": [
    {
     "data": {
      "text/html": [
       "<div>\n",
       "<style scoped>\n",
       "    .dataframe tbody tr th:only-of-type {\n",
       "        vertical-align: middle;\n",
       "    }\n",
       "\n",
       "    .dataframe tbody tr th {\n",
       "        vertical-align: top;\n",
       "    }\n",
       "\n",
       "    .dataframe thead th {\n",
       "        text-align: right;\n",
       "    }\n",
       "</style>\n",
       "<table border=\"1\" class=\"dataframe\">\n",
       "  <thead>\n",
       "    <tr style=\"text-align: right;\">\n",
       "      <th></th>\n",
       "      <th>agency</th>\n",
       "      <th>number of funded projects</th>\n",
       "    </tr>\n",
       "  </thead>\n",
       "  <tbody>\n",
       "    <tr>\n",
       "      <th>0</th>\n",
       "      <td>NIH</td>\n",
       "      <td>85791</td>\n",
       "    </tr>\n",
       "    <tr>\n",
       "      <th>1</th>\n",
       "      <td>NSF</td>\n",
       "      <td>13632</td>\n",
       "    </tr>\n",
       "    <tr>\n",
       "      <th>2</th>\n",
       "      <td>ALLCDC</td>\n",
       "      <td>4521</td>\n",
       "    </tr>\n",
       "    <tr>\n",
       "      <th>3</th>\n",
       "      <td>NIFA</td>\n",
       "      <td>3325</td>\n",
       "    </tr>\n",
       "    <tr>\n",
       "      <th>4</th>\n",
       "      <td>NASA</td>\n",
       "      <td>1903</td>\n",
       "    </tr>\n",
       "  </tbody>\n",
       "</table>\n",
       "</div>"
      ],
      "text/plain": [
       "   agency  number of funded projects\n",
       "0     NIH                      85791\n",
       "1     NSF                      13632\n",
       "2  ALLCDC                       4521\n",
       "3    NIFA                       3325\n",
       "4    NASA                       1903"
      ]
     },
     "execution_count": 44,
     "metadata": {},
     "output_type": "execute_result"
    }
   ],
   "source": [
    "# Let's correct the columns names, this shouldn't be project_id but sum of all funded projects\n",
    "df_group.rename(columns={'project_id':'number of funded projects'}, inplace=True)\n",
    "df_group.head()"
   ]
  },
  {
   "cell_type": "markdown",
   "metadata": {},
   "source": [
    "### Merging Dataframes\n",
    "Pandas provides an ability to merge (join) two datasets together. You can store the results in a new dataframe. There are different ways of mergeing data: left, right, outer, inner (https://pandas.pydata.org/pandas-docs/stable/reference/api/pandas.DataFrame.merge.html)."
   ]
  },
  {
   "cell_type": "code",
   "execution_count": 45,
   "metadata": {},
   "outputs": [
    {
     "data": {
      "text/html": [
       "<div>\n",
       "<style scoped>\n",
       "    .dataframe tbody tr th:only-of-type {\n",
       "        vertical-align: middle;\n",
       "    }\n",
       "\n",
       "    .dataframe tbody tr th {\n",
       "        vertical-align: top;\n",
       "    }\n",
       "\n",
       "    .dataframe thead th {\n",
       "        text-align: right;\n",
       "    }\n",
       "</style>\n",
       "<table border=\"1\" class=\"dataframe\">\n",
       "  <thead>\n",
       "    <tr style=\"text-align: right;\">\n",
       "      <th></th>\n",
       "      <th>agency</th>\n",
       "      <th>project_title</th>\n",
       "      <th>fy_total_cost</th>\n",
       "      <th>project_start_date</th>\n",
       "      <th>project_end_date</th>\n",
       "      <th>monthly</th>\n",
       "      <th>number of funded projects</th>\n",
       "    </tr>\n",
       "  </thead>\n",
       "  <tbody>\n",
       "    <tr>\n",
       "      <th>0</th>\n",
       "      <td>NSF</td>\n",
       "      <td>COLLABORATIVE RESEARCH: EFFECTS OF LAND-USE, P...</td>\n",
       "      <td>1151411.0</td>\n",
       "      <td>2010-10-01</td>\n",
       "      <td>2013-09-30</td>\n",
       "      <td>95950.916667</td>\n",
       "      <td>13632</td>\n",
       "    </tr>\n",
       "    <tr>\n",
       "      <th>1</th>\n",
       "      <td>NSF</td>\n",
       "      <td>PHASE 4 PROPOSAL: MANAGEMENT OF THE POST DELIV...</td>\n",
       "      <td>11178098.0</td>\n",
       "      <td>2013-01-01</td>\n",
       "      <td>2014-04-30</td>\n",
       "      <td>931508.166667</td>\n",
       "      <td>13632</td>\n",
       "    </tr>\n",
       "    <tr>\n",
       "      <th>2</th>\n",
       "      <td>NSF</td>\n",
       "      <td>EXPANDING USE OF THE CAT: ASSESSING AND IMPROV...</td>\n",
       "      <td>1836144.0</td>\n",
       "      <td>2010-10-01</td>\n",
       "      <td>2013-09-30</td>\n",
       "      <td>153012.000000</td>\n",
       "      <td>13632</td>\n",
       "    </tr>\n",
       "    <tr>\n",
       "      <th>3</th>\n",
       "      <td>NSF</td>\n",
       "      <td>COLLABORATIVE RESEARCH: CYBERINFRASTRUCTURE-EN...</td>\n",
       "      <td>2697799.0</td>\n",
       "      <td>2010-10-01</td>\n",
       "      <td>2013-09-30</td>\n",
       "      <td>224816.583333</td>\n",
       "      <td>13632</td>\n",
       "    </tr>\n",
       "    <tr>\n",
       "      <th>4</th>\n",
       "      <td>NSF</td>\n",
       "      <td>RESEARCH AND EDUCATION CYBERINFRASTRUCTURE INV...</td>\n",
       "      <td>1749000.0</td>\n",
       "      <td>2010-10-01</td>\n",
       "      <td>2013-09-30</td>\n",
       "      <td>145750.000000</td>\n",
       "      <td>13632</td>\n",
       "    </tr>\n",
       "  </tbody>\n",
       "</table>\n",
       "</div>"
      ],
      "text/plain": [
       "  agency                                      project_title  fy_total_cost  \\\n",
       "0    NSF  COLLABORATIVE RESEARCH: EFFECTS OF LAND-USE, P...      1151411.0   \n",
       "1    NSF  PHASE 4 PROPOSAL: MANAGEMENT OF THE POST DELIV...     11178098.0   \n",
       "2    NSF  EXPANDING USE OF THE CAT: ASSESSING AND IMPROV...      1836144.0   \n",
       "3    NSF  COLLABORATIVE RESEARCH: CYBERINFRASTRUCTURE-EN...      2697799.0   \n",
       "4    NSF  RESEARCH AND EDUCATION CYBERINFRASTRUCTURE INV...      1749000.0   \n",
       "\n",
       "  project_start_date project_end_date        monthly  \\\n",
       "0         2010-10-01       2013-09-30   95950.916667   \n",
       "1         2013-01-01       2014-04-30  931508.166667   \n",
       "2         2010-10-01       2013-09-30  153012.000000   \n",
       "3         2010-10-01       2013-09-30  224816.583333   \n",
       "4         2010-10-01       2013-09-30  145750.000000   \n",
       "\n",
       "   number of funded projects  \n",
       "0                      13632  \n",
       "1                      13632  \n",
       "2                      13632  \n",
       "3                      13632  \n",
       "4                      13632  "
      ]
     },
     "execution_count": 45,
     "metadata": {},
     "output_type": "execute_result"
    }
   ],
   "source": [
    "merge_df = pd.merge(df5, df_group, on=[\"agency\"], how=\"inner\")\n",
    "merge_df.head()"
   ]
  },
  {
   "cell_type": "code",
   "execution_count": 46,
   "metadata": {},
   "outputs": [
    {
     "data": {
      "text/plain": [
       "(5614, 7)"
      ]
     },
     "execution_count": 46,
     "metadata": {},
     "output_type": "execute_result"
    }
   ],
   "source": [
    "merge_df.shape"
   ]
  },
  {
   "cell_type": "markdown",
   "metadata": {},
   "source": [
    "### Saving a CSV\n",
    "You can save a copy of your dataframe as a .csv file."
   ]
  },
  {
   "cell_type": "code",
   "execution_count": 47,
   "metadata": {},
   "outputs": [],
   "source": [
    "merge_df.to_csv(\"~/Yandex.Disk/example_data.csv\", encoding='utf8')"
   ]
  },
  {
   "cell_type": "code",
   "execution_count": 48,
   "metadata": {},
   "outputs": [
    {
     "name": "stdout",
     "output_type": "stream",
     "text": [
      "/home/jovyan\n"
     ]
    },
    {
     "data": {
      "text/plain": [
       "'/home/jovyan'"
      ]
     },
     "execution_count": 48,
     "metadata": {},
     "output_type": "execute_result"
    }
   ],
   "source": [
    "%cd ~\n",
    "%pwd"
   ]
  },
  {
   "cell_type": "code",
   "execution_count": null,
   "metadata": {},
   "outputs": [],
   "source": []
  }
 ],
 "metadata": {
  "kernelspec": {
   "display_name": "Python 3",
   "language": "python",
   "name": "python3"
  },
  "language_info": {
   "codemirror_mode": {
    "name": "ipython",
    "version": 3
   },
   "file_extension": ".py",
   "mimetype": "text/x-python",
   "name": "python",
   "nbconvert_exporter": "python",
   "pygments_lexer": "ipython3",
   "version": "3.7.3"
  }
 },
 "nbformat": 4,
 "nbformat_minor": 4
}
